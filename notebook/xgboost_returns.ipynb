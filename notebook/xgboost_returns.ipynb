{
 "cells": [
  {
   "cell_type": "code",
   "execution_count": 54,
   "id": "initial_id",
   "metadata": {
    "ExecuteTime": {
     "end_time": "2024-01-18T17:53:49.927371Z",
     "start_time": "2024-01-18T17:53:47.344745Z"
    },
    "collapsed": true
   },
   "outputs": [],
   "source": [
    "import pandas as pd\n",
    "import plotly.graph_objs as go \n",
    "import matplotlib.pyplot as plt\n",
    "from scripts.xgboost_model import XGBRegressor\n",
    "from tqdm import tqdm \n",
    "import numpy as np\n",
    "from sklearn.metrics import mean_squared_error, mean_absolute_error\n",
    "from sklearn.model_selection import GridSearchCV"
   ]
  },
  {
   "cell_type": "markdown",
   "id": "4f99717d5e2d3cab",
   "metadata": {
    "collapsed": false
   },
   "source": [
    "# Import des données"
   ]
  },
  {
   "cell_type": "code",
   "execution_count": 55,
   "id": "626be21b2e0fec57",
   "metadata": {
    "ExecuteTime": {
     "end_time": "2024-01-18T17:53:49.965128Z",
     "start_time": "2024-01-18T17:53:49.929043Z"
    },
    "collapsed": false
   },
   "outputs": [],
   "source": [
    "apple = pd.read_csv(\"../data/AAPL.csv\")\n",
    "amazon = pd.read_csv(\"../data/AMZN.csv\")\n",
    "berkshire = pd.read_csv(\"../data/BRK-B.csv\")\n",
    "google = pd.read_csv(\"../data/GOOG.csv\")\n",
    "meta = pd.read_csv(\"../data/META.csv\")\n",
    "microsoft = pd.read_csv(\"../data/MSFT.csv\")\n",
    "nvidia = pd.read_csv(\"../data/NVDA.csv\")\n",
    "tesla = pd.read_csv(\"../data/TSLA.csv\")\n",
    "unitedhealth = pd.read_csv(\"../data/UNH.csv\")\n",
    "exxon = pd.read_csv(\"../data/XOM.csv\")"
   ]
  },
  {
   "cell_type": "code",
   "execution_count": 56,
   "id": "2931564a5caddd90",
   "metadata": {
    "ExecuteTime": {
     "end_time": "2024-01-18T17:53:49.971199Z",
     "start_time": "2024-01-18T17:53:49.968087Z"
    },
    "collapsed": false
   },
   "outputs": [],
   "source": [
    "titres = {\"Apple\" : apple, \n",
    "          \"Amazon\" : amazon,\n",
    "          \"Berkshire\" : berkshire,\n",
    "          \"Google\" : google,\n",
    "          \"Meta\" : meta,\n",
    "          \"Microsoft\" : microsoft,\n",
    "          \"Nvidia\" : nvidia,\n",
    "          \"Tesla\" : tesla,\n",
    "          \"UnitedHealth\" : unitedhealth,\n",
    "          \"Exxon\" : exxon}"
   ]
  },
  {
   "cell_type": "code",
   "execution_count": 57,
   "id": "b6792441",
   "metadata": {},
   "outputs": [
    {
     "data": {
      "text/plain": [
       "Index(['Date', 'Open', 'High', 'Low', 'Close', 'Adj Close', 'Volume'], dtype='object')"
      ]
     },
     "execution_count": 57,
     "metadata": {},
     "output_type": "execute_result"
    }
   ],
   "source": [
    "apple.columns"
   ]
  },
  {
   "cell_type": "markdown",
   "id": "efdf0215",
   "metadata": {},
   "source": [
    "## test de FE"
   ]
  },
  {
   "cell_type": "markdown",
   "id": "30f3acb5e5d962fb",
   "metadata": {
    "collapsed": false
   },
   "source": [
    "# Calcul des prédictions"
   ]
  },
  {
   "cell_type": "code",
   "execution_count": 58,
   "id": "c13640f92e046a5a",
   "metadata": {
    "ExecuteTime": {
     "end_time": "2024-01-18T17:53:49.980366Z",
     "start_time": "2024-01-18T17:53:49.977190Z"
    },
    "collapsed": false
   },
   "outputs": [],
   "source": [
    "def stock_forecast(stock):\n",
    "\n",
    "    stock['Date'] = pd.to_datetime(stock['Date'])\n",
    "    stock = stock[stock[\"Date\"]>=\"2020-07-01\"]\n",
    "    stock['Adj Close'] = stock['Adj Close'].pct_change()\n",
    "    stock['High'] = stock['High'].pct_change()\n",
    "    stock['Low'] = stock['Low'].pct_change()\n",
    "    stock['Volume'] = stock['Volume'].pct_change()\n",
    "    stock['dailyChange'] = (stock['Adj Close'] - stock['Open']) / stock['Open']\n",
    "\n",
    "    stock['VolMA10'] = stock['Volume'].rolling(window=10).mean()\n",
    "\n",
    "    stock['priceDirection'] = (stock['Adj Close'].shift(-1) - stock['Adj Close'])\n",
    "\n",
    "    stock['Std_dev']=  stock['Adj Close'].rolling(10).std()\n",
    "\n",
    "    stock['Williams%R'] = (stock['High'].max() - stock['Adj Close'])/(stock['High'] - stock['Low'].min()) * -100\n",
    "    stock = stock.replace([np.inf, -np.inf], np.nan)\n",
    "    stock['Volatility_HighLow_10days'] = stock['High'].rolling(window=10).std() / stock['Low'].rolling(window=10).mean()\n",
    "\n",
    "    stock['Return'] = stock['Close'].pct_change()\n",
    "    stock = stock.dropna()\n",
    "    stock = stock.drop(columns=['Adj Close'])\n",
    "\n",
    "    stock['Target'] = stock['Return'].shift(-10)\n",
    "    stock = stock.dropna()\n",
    "\n",
    "    window_size = 30\n",
    "    step_size = 7  \n",
    "    prediction_days = 7\n",
    "    \n",
    "    prediction_dates = []\n",
    "    predictions = []\n",
    "  \n",
    "    features_to_drop = ['Date', 'Target', 'Volume']\n",
    "    for start in tqdm(range(0, len(stock) - window_size - prediction_days, step_size)):\n",
    "\n",
    "        end = start + window_size\n",
    "        train = stock.iloc[start:end]\n",
    "        test = stock.iloc[end:end + prediction_days]\n",
    "    \n",
    "        model = XGBRegressor(n_estimators=400, max_depth=30, learning_rate=0.01, verbosity=0)\n",
    "\n",
    "        model.fit(train.drop(features_to_drop, axis=1), train['Target'])\n",
    "\n",
    "    \n",
    "        pred = model.predict(test.drop(['Date', 'Target', 'Volume'], axis=1))\n",
    "        predictions.append(pred)\n",
    "    \n",
    "        prediction_date = stock.iloc[end + prediction_days - 1]['Date']\n",
    "        prediction_dates.append(prediction_date)\n",
    "\n",
    "    predictions = [value[6] for value in predictions]\n",
    "\n",
    "\n",
    "    df_predictions = pd.DataFrame({\n",
    "        'Date': prediction_dates,\n",
    "        'Prediction': predictions\n",
    "    })\n",
    "    \n",
    "    merged_df = stock.merge(df_predictions, on='Date', how='inner')\n",
    "    \n",
    "    merged_df = merged_df.drop(columns = [\"Target\"])\n",
    "    \n",
    "    return merged_df"
   ]
  },
  {
   "cell_type": "code",
   "execution_count": 59,
   "id": "69a30d9acadf6303",
   "metadata": {
    "ExecuteTime": {
     "end_time": "2024-01-18T17:53:49.985944Z",
     "start_time": "2024-01-18T17:53:49.981020Z"
    },
    "collapsed": false
   },
   "outputs": [],
   "source": [
    "predictions_dic = {}"
   ]
  },
  {
   "cell_type": "code",
   "execution_count": 60,
   "id": "5cc28acbda68434f",
   "metadata": {
    "ExecuteTime": {
     "end_time": "2024-01-18T17:55:48.544452Z",
     "start_time": "2024-01-18T17:53:49.984148Z"
    },
    "collapsed": false
   },
   "outputs": [
    {
     "name": "stderr",
     "output_type": "stream",
     "text": [
      "/var/folders/cs/hh3_26_57sx7l8sdk574zbdh0000gn/T/ipykernel_48097/3643416133.py:5: SettingWithCopyWarning:\n",
      "\n",
      "\n",
      "A value is trying to be set on a copy of a slice from a DataFrame.\n",
      "Try using .loc[row_indexer,col_indexer] = value instead\n",
      "\n",
      "See the caveats in the documentation: https://pandas.pydata.org/pandas-docs/stable/user_guide/indexing.html#returning-a-view-versus-a-copy\n",
      "\n",
      "/var/folders/cs/hh3_26_57sx7l8sdk574zbdh0000gn/T/ipykernel_48097/3643416133.py:6: SettingWithCopyWarning:\n",
      "\n",
      "\n",
      "A value is trying to be set on a copy of a slice from a DataFrame.\n",
      "Try using .loc[row_indexer,col_indexer] = value instead\n",
      "\n",
      "See the caveats in the documentation: https://pandas.pydata.org/pandas-docs/stable/user_guide/indexing.html#returning-a-view-versus-a-copy\n",
      "\n",
      "/var/folders/cs/hh3_26_57sx7l8sdk574zbdh0000gn/T/ipykernel_48097/3643416133.py:7: SettingWithCopyWarning:\n",
      "\n",
      "\n",
      "A value is trying to be set on a copy of a slice from a DataFrame.\n",
      "Try using .loc[row_indexer,col_indexer] = value instead\n",
      "\n",
      "See the caveats in the documentation: https://pandas.pydata.org/pandas-docs/stable/user_guide/indexing.html#returning-a-view-versus-a-copy\n",
      "\n",
      "/var/folders/cs/hh3_26_57sx7l8sdk574zbdh0000gn/T/ipykernel_48097/3643416133.py:8: SettingWithCopyWarning:\n",
      "\n",
      "\n",
      "A value is trying to be set on a copy of a slice from a DataFrame.\n",
      "Try using .loc[row_indexer,col_indexer] = value instead\n",
      "\n",
      "See the caveats in the documentation: https://pandas.pydata.org/pandas-docs/stable/user_guide/indexing.html#returning-a-view-versus-a-copy\n",
      "\n",
      "/var/folders/cs/hh3_26_57sx7l8sdk574zbdh0000gn/T/ipykernel_48097/3643416133.py:9: SettingWithCopyWarning:\n",
      "\n",
      "\n",
      "A value is trying to be set on a copy of a slice from a DataFrame.\n",
      "Try using .loc[row_indexer,col_indexer] = value instead\n",
      "\n",
      "See the caveats in the documentation: https://pandas.pydata.org/pandas-docs/stable/user_guide/indexing.html#returning-a-view-versus-a-copy\n",
      "\n",
      "/var/folders/cs/hh3_26_57sx7l8sdk574zbdh0000gn/T/ipykernel_48097/3643416133.py:11: SettingWithCopyWarning:\n",
      "\n",
      "\n",
      "A value is trying to be set on a copy of a slice from a DataFrame.\n",
      "Try using .loc[row_indexer,col_indexer] = value instead\n",
      "\n",
      "See the caveats in the documentation: https://pandas.pydata.org/pandas-docs/stable/user_guide/indexing.html#returning-a-view-versus-a-copy\n",
      "\n",
      "/var/folders/cs/hh3_26_57sx7l8sdk574zbdh0000gn/T/ipykernel_48097/3643416133.py:13: SettingWithCopyWarning:\n",
      "\n",
      "\n",
      "A value is trying to be set on a copy of a slice from a DataFrame.\n",
      "Try using .loc[row_indexer,col_indexer] = value instead\n",
      "\n",
      "See the caveats in the documentation: https://pandas.pydata.org/pandas-docs/stable/user_guide/indexing.html#returning-a-view-versus-a-copy\n",
      "\n",
      "/var/folders/cs/hh3_26_57sx7l8sdk574zbdh0000gn/T/ipykernel_48097/3643416133.py:15: SettingWithCopyWarning:\n",
      "\n",
      "\n",
      "A value is trying to be set on a copy of a slice from a DataFrame.\n",
      "Try using .loc[row_indexer,col_indexer] = value instead\n",
      "\n",
      "See the caveats in the documentation: https://pandas.pydata.org/pandas-docs/stable/user_guide/indexing.html#returning-a-view-versus-a-copy\n",
      "\n",
      "/var/folders/cs/hh3_26_57sx7l8sdk574zbdh0000gn/T/ipykernel_48097/3643416133.py:17: SettingWithCopyWarning:\n",
      "\n",
      "\n",
      "A value is trying to be set on a copy of a slice from a DataFrame.\n",
      "Try using .loc[row_indexer,col_indexer] = value instead\n",
      "\n",
      "See the caveats in the documentation: https://pandas.pydata.org/pandas-docs/stable/user_guide/indexing.html#returning-a-view-versus-a-copy\n",
      "\n",
      "100%|██████████| 118/118 [01:23<00:00,  1.41it/s]\n",
      "/var/folders/cs/hh3_26_57sx7l8sdk574zbdh0000gn/T/ipykernel_48097/3643416133.py:5: SettingWithCopyWarning:\n",
      "\n",
      "\n",
      "A value is trying to be set on a copy of a slice from a DataFrame.\n",
      "Try using .loc[row_indexer,col_indexer] = value instead\n",
      "\n",
      "See the caveats in the documentation: https://pandas.pydata.org/pandas-docs/stable/user_guide/indexing.html#returning-a-view-versus-a-copy\n",
      "\n",
      "/var/folders/cs/hh3_26_57sx7l8sdk574zbdh0000gn/T/ipykernel_48097/3643416133.py:6: SettingWithCopyWarning:\n",
      "\n",
      "\n",
      "A value is trying to be set on a copy of a slice from a DataFrame.\n",
      "Try using .loc[row_indexer,col_indexer] = value instead\n",
      "\n",
      "See the caveats in the documentation: https://pandas.pydata.org/pandas-docs/stable/user_guide/indexing.html#returning-a-view-versus-a-copy\n",
      "\n",
      "/var/folders/cs/hh3_26_57sx7l8sdk574zbdh0000gn/T/ipykernel_48097/3643416133.py:7: SettingWithCopyWarning:\n",
      "\n",
      "\n",
      "A value is trying to be set on a copy of a slice from a DataFrame.\n",
      "Try using .loc[row_indexer,col_indexer] = value instead\n",
      "\n",
      "See the caveats in the documentation: https://pandas.pydata.org/pandas-docs/stable/user_guide/indexing.html#returning-a-view-versus-a-copy\n",
      "\n",
      "/var/folders/cs/hh3_26_57sx7l8sdk574zbdh0000gn/T/ipykernel_48097/3643416133.py:8: SettingWithCopyWarning:\n",
      "\n",
      "\n",
      "A value is trying to be set on a copy of a slice from a DataFrame.\n",
      "Try using .loc[row_indexer,col_indexer] = value instead\n",
      "\n",
      "See the caveats in the documentation: https://pandas.pydata.org/pandas-docs/stable/user_guide/indexing.html#returning-a-view-versus-a-copy\n",
      "\n",
      "/var/folders/cs/hh3_26_57sx7l8sdk574zbdh0000gn/T/ipykernel_48097/3643416133.py:9: SettingWithCopyWarning:\n",
      "\n",
      "\n",
      "A value is trying to be set on a copy of a slice from a DataFrame.\n",
      "Try using .loc[row_indexer,col_indexer] = value instead\n",
      "\n",
      "See the caveats in the documentation: https://pandas.pydata.org/pandas-docs/stable/user_guide/indexing.html#returning-a-view-versus-a-copy\n",
      "\n",
      "/var/folders/cs/hh3_26_57sx7l8sdk574zbdh0000gn/T/ipykernel_48097/3643416133.py:11: SettingWithCopyWarning:\n",
      "\n",
      "\n",
      "A value is trying to be set on a copy of a slice from a DataFrame.\n",
      "Try using .loc[row_indexer,col_indexer] = value instead\n",
      "\n",
      "See the caveats in the documentation: https://pandas.pydata.org/pandas-docs/stable/user_guide/indexing.html#returning-a-view-versus-a-copy\n",
      "\n",
      "/var/folders/cs/hh3_26_57sx7l8sdk574zbdh0000gn/T/ipykernel_48097/3643416133.py:13: SettingWithCopyWarning:\n",
      "\n",
      "\n",
      "A value is trying to be set on a copy of a slice from a DataFrame.\n",
      "Try using .loc[row_indexer,col_indexer] = value instead\n",
      "\n",
      "See the caveats in the documentation: https://pandas.pydata.org/pandas-docs/stable/user_guide/indexing.html#returning-a-view-versus-a-copy\n",
      "\n",
      "/var/folders/cs/hh3_26_57sx7l8sdk574zbdh0000gn/T/ipykernel_48097/3643416133.py:15: SettingWithCopyWarning:\n",
      "\n",
      "\n",
      "A value is trying to be set on a copy of a slice from a DataFrame.\n",
      "Try using .loc[row_indexer,col_indexer] = value instead\n",
      "\n",
      "See the caveats in the documentation: https://pandas.pydata.org/pandas-docs/stable/user_guide/indexing.html#returning-a-view-versus-a-copy\n",
      "\n",
      "/var/folders/cs/hh3_26_57sx7l8sdk574zbdh0000gn/T/ipykernel_48097/3643416133.py:17: SettingWithCopyWarning:\n",
      "\n",
      "\n",
      "A value is trying to be set on a copy of a slice from a DataFrame.\n",
      "Try using .loc[row_indexer,col_indexer] = value instead\n",
      "\n",
      "See the caveats in the documentation: https://pandas.pydata.org/pandas-docs/stable/user_guide/indexing.html#returning-a-view-versus-a-copy\n",
      "\n",
      "100%|██████████| 118/118 [01:26<00:00,  1.36it/s]\n",
      "/var/folders/cs/hh3_26_57sx7l8sdk574zbdh0000gn/T/ipykernel_48097/3643416133.py:5: SettingWithCopyWarning:\n",
      "\n",
      "\n",
      "A value is trying to be set on a copy of a slice from a DataFrame.\n",
      "Try using .loc[row_indexer,col_indexer] = value instead\n",
      "\n",
      "See the caveats in the documentation: https://pandas.pydata.org/pandas-docs/stable/user_guide/indexing.html#returning-a-view-versus-a-copy\n",
      "\n",
      "/var/folders/cs/hh3_26_57sx7l8sdk574zbdh0000gn/T/ipykernel_48097/3643416133.py:6: SettingWithCopyWarning:\n",
      "\n",
      "\n",
      "A value is trying to be set on a copy of a slice from a DataFrame.\n",
      "Try using .loc[row_indexer,col_indexer] = value instead\n",
      "\n",
      "See the caveats in the documentation: https://pandas.pydata.org/pandas-docs/stable/user_guide/indexing.html#returning-a-view-versus-a-copy\n",
      "\n",
      "/var/folders/cs/hh3_26_57sx7l8sdk574zbdh0000gn/T/ipykernel_48097/3643416133.py:7: SettingWithCopyWarning:\n",
      "\n",
      "\n",
      "A value is trying to be set on a copy of a slice from a DataFrame.\n",
      "Try using .loc[row_indexer,col_indexer] = value instead\n",
      "\n",
      "See the caveats in the documentation: https://pandas.pydata.org/pandas-docs/stable/user_guide/indexing.html#returning-a-view-versus-a-copy\n",
      "\n",
      "/var/folders/cs/hh3_26_57sx7l8sdk574zbdh0000gn/T/ipykernel_48097/3643416133.py:8: SettingWithCopyWarning:\n",
      "\n",
      "\n",
      "A value is trying to be set on a copy of a slice from a DataFrame.\n",
      "Try using .loc[row_indexer,col_indexer] = value instead\n",
      "\n",
      "See the caveats in the documentation: https://pandas.pydata.org/pandas-docs/stable/user_guide/indexing.html#returning-a-view-versus-a-copy\n",
      "\n",
      "/var/folders/cs/hh3_26_57sx7l8sdk574zbdh0000gn/T/ipykernel_48097/3643416133.py:9: SettingWithCopyWarning:\n",
      "\n",
      "\n",
      "A value is trying to be set on a copy of a slice from a DataFrame.\n",
      "Try using .loc[row_indexer,col_indexer] = value instead\n",
      "\n",
      "See the caveats in the documentation: https://pandas.pydata.org/pandas-docs/stable/user_guide/indexing.html#returning-a-view-versus-a-copy\n",
      "\n",
      "/var/folders/cs/hh3_26_57sx7l8sdk574zbdh0000gn/T/ipykernel_48097/3643416133.py:11: SettingWithCopyWarning:\n",
      "\n",
      "\n",
      "A value is trying to be set on a copy of a slice from a DataFrame.\n",
      "Try using .loc[row_indexer,col_indexer] = value instead\n",
      "\n",
      "See the caveats in the documentation: https://pandas.pydata.org/pandas-docs/stable/user_guide/indexing.html#returning-a-view-versus-a-copy\n",
      "\n",
      "/var/folders/cs/hh3_26_57sx7l8sdk574zbdh0000gn/T/ipykernel_48097/3643416133.py:13: SettingWithCopyWarning:\n",
      "\n",
      "\n",
      "A value is trying to be set on a copy of a slice from a DataFrame.\n",
      "Try using .loc[row_indexer,col_indexer] = value instead\n",
      "\n",
      "See the caveats in the documentation: https://pandas.pydata.org/pandas-docs/stable/user_guide/indexing.html#returning-a-view-versus-a-copy\n",
      "\n",
      "/var/folders/cs/hh3_26_57sx7l8sdk574zbdh0000gn/T/ipykernel_48097/3643416133.py:15: SettingWithCopyWarning:\n",
      "\n",
      "\n",
      "A value is trying to be set on a copy of a slice from a DataFrame.\n",
      "Try using .loc[row_indexer,col_indexer] = value instead\n",
      "\n",
      "See the caveats in the documentation: https://pandas.pydata.org/pandas-docs/stable/user_guide/indexing.html#returning-a-view-versus-a-copy\n",
      "\n",
      "/var/folders/cs/hh3_26_57sx7l8sdk574zbdh0000gn/T/ipykernel_48097/3643416133.py:17: SettingWithCopyWarning:\n",
      "\n",
      "\n",
      "A value is trying to be set on a copy of a slice from a DataFrame.\n",
      "Try using .loc[row_indexer,col_indexer] = value instead\n",
      "\n",
      "See the caveats in the documentation: https://pandas.pydata.org/pandas-docs/stable/user_guide/indexing.html#returning-a-view-versus-a-copy\n",
      "\n",
      "100%|██████████| 118/118 [01:13<00:00,  1.60it/s]\n",
      "/var/folders/cs/hh3_26_57sx7l8sdk574zbdh0000gn/T/ipykernel_48097/3643416133.py:5: SettingWithCopyWarning:\n",
      "\n",
      "\n",
      "A value is trying to be set on a copy of a slice from a DataFrame.\n",
      "Try using .loc[row_indexer,col_indexer] = value instead\n",
      "\n",
      "See the caveats in the documentation: https://pandas.pydata.org/pandas-docs/stable/user_guide/indexing.html#returning-a-view-versus-a-copy\n",
      "\n",
      "/var/folders/cs/hh3_26_57sx7l8sdk574zbdh0000gn/T/ipykernel_48097/3643416133.py:6: SettingWithCopyWarning:\n",
      "\n",
      "\n",
      "A value is trying to be set on a copy of a slice from a DataFrame.\n",
      "Try using .loc[row_indexer,col_indexer] = value instead\n",
      "\n",
      "See the caveats in the documentation: https://pandas.pydata.org/pandas-docs/stable/user_guide/indexing.html#returning-a-view-versus-a-copy\n",
      "\n",
      "/var/folders/cs/hh3_26_57sx7l8sdk574zbdh0000gn/T/ipykernel_48097/3643416133.py:7: SettingWithCopyWarning:\n",
      "\n",
      "\n",
      "A value is trying to be set on a copy of a slice from a DataFrame.\n",
      "Try using .loc[row_indexer,col_indexer] = value instead\n",
      "\n",
      "See the caveats in the documentation: https://pandas.pydata.org/pandas-docs/stable/user_guide/indexing.html#returning-a-view-versus-a-copy\n",
      "\n",
      "/var/folders/cs/hh3_26_57sx7l8sdk574zbdh0000gn/T/ipykernel_48097/3643416133.py:8: SettingWithCopyWarning:\n",
      "\n",
      "\n",
      "A value is trying to be set on a copy of a slice from a DataFrame.\n",
      "Try using .loc[row_indexer,col_indexer] = value instead\n",
      "\n",
      "See the caveats in the documentation: https://pandas.pydata.org/pandas-docs/stable/user_guide/indexing.html#returning-a-view-versus-a-copy\n",
      "\n",
      "/var/folders/cs/hh3_26_57sx7l8sdk574zbdh0000gn/T/ipykernel_48097/3643416133.py:9: SettingWithCopyWarning:\n",
      "\n",
      "\n",
      "A value is trying to be set on a copy of a slice from a DataFrame.\n",
      "Try using .loc[row_indexer,col_indexer] = value instead\n",
      "\n",
      "See the caveats in the documentation: https://pandas.pydata.org/pandas-docs/stable/user_guide/indexing.html#returning-a-view-versus-a-copy\n",
      "\n",
      "/var/folders/cs/hh3_26_57sx7l8sdk574zbdh0000gn/T/ipykernel_48097/3643416133.py:11: SettingWithCopyWarning:\n",
      "\n",
      "\n",
      "A value is trying to be set on a copy of a slice from a DataFrame.\n",
      "Try using .loc[row_indexer,col_indexer] = value instead\n",
      "\n",
      "See the caveats in the documentation: https://pandas.pydata.org/pandas-docs/stable/user_guide/indexing.html#returning-a-view-versus-a-copy\n",
      "\n",
      "/var/folders/cs/hh3_26_57sx7l8sdk574zbdh0000gn/T/ipykernel_48097/3643416133.py:13: SettingWithCopyWarning:\n",
      "\n",
      "\n",
      "A value is trying to be set on a copy of a slice from a DataFrame.\n",
      "Try using .loc[row_indexer,col_indexer] = value instead\n",
      "\n",
      "See the caveats in the documentation: https://pandas.pydata.org/pandas-docs/stable/user_guide/indexing.html#returning-a-view-versus-a-copy\n",
      "\n",
      "/var/folders/cs/hh3_26_57sx7l8sdk574zbdh0000gn/T/ipykernel_48097/3643416133.py:15: SettingWithCopyWarning:\n",
      "\n",
      "\n",
      "A value is trying to be set on a copy of a slice from a DataFrame.\n",
      "Try using .loc[row_indexer,col_indexer] = value instead\n",
      "\n",
      "See the caveats in the documentation: https://pandas.pydata.org/pandas-docs/stable/user_guide/indexing.html#returning-a-view-versus-a-copy\n",
      "\n",
      "/var/folders/cs/hh3_26_57sx7l8sdk574zbdh0000gn/T/ipykernel_48097/3643416133.py:17: SettingWithCopyWarning:\n",
      "\n",
      "\n",
      "A value is trying to be set on a copy of a slice from a DataFrame.\n",
      "Try using .loc[row_indexer,col_indexer] = value instead\n",
      "\n",
      "See the caveats in the documentation: https://pandas.pydata.org/pandas-docs/stable/user_guide/indexing.html#returning-a-view-versus-a-copy\n",
      "\n",
      "100%|██████████| 118/118 [01:17<00:00,  1.53it/s]\n",
      "/var/folders/cs/hh3_26_57sx7l8sdk574zbdh0000gn/T/ipykernel_48097/3643416133.py:5: SettingWithCopyWarning:\n",
      "\n",
      "\n",
      "A value is trying to be set on a copy of a slice from a DataFrame.\n",
      "Try using .loc[row_indexer,col_indexer] = value instead\n",
      "\n",
      "See the caveats in the documentation: https://pandas.pydata.org/pandas-docs/stable/user_guide/indexing.html#returning-a-view-versus-a-copy\n",
      "\n",
      "/var/folders/cs/hh3_26_57sx7l8sdk574zbdh0000gn/T/ipykernel_48097/3643416133.py:6: SettingWithCopyWarning:\n",
      "\n",
      "\n",
      "A value is trying to be set on a copy of a slice from a DataFrame.\n",
      "Try using .loc[row_indexer,col_indexer] = value instead\n",
      "\n",
      "See the caveats in the documentation: https://pandas.pydata.org/pandas-docs/stable/user_guide/indexing.html#returning-a-view-versus-a-copy\n",
      "\n",
      "/var/folders/cs/hh3_26_57sx7l8sdk574zbdh0000gn/T/ipykernel_48097/3643416133.py:7: SettingWithCopyWarning:\n",
      "\n",
      "\n",
      "A value is trying to be set on a copy of a slice from a DataFrame.\n",
      "Try using .loc[row_indexer,col_indexer] = value instead\n",
      "\n",
      "See the caveats in the documentation: https://pandas.pydata.org/pandas-docs/stable/user_guide/indexing.html#returning-a-view-versus-a-copy\n",
      "\n",
      "/var/folders/cs/hh3_26_57sx7l8sdk574zbdh0000gn/T/ipykernel_48097/3643416133.py:8: SettingWithCopyWarning:\n",
      "\n",
      "\n",
      "A value is trying to be set on a copy of a slice from a DataFrame.\n",
      "Try using .loc[row_indexer,col_indexer] = value instead\n",
      "\n",
      "See the caveats in the documentation: https://pandas.pydata.org/pandas-docs/stable/user_guide/indexing.html#returning-a-view-versus-a-copy\n",
      "\n",
      "/var/folders/cs/hh3_26_57sx7l8sdk574zbdh0000gn/T/ipykernel_48097/3643416133.py:9: SettingWithCopyWarning:\n",
      "\n",
      "\n",
      "A value is trying to be set on a copy of a slice from a DataFrame.\n",
      "Try using .loc[row_indexer,col_indexer] = value instead\n",
      "\n",
      "See the caveats in the documentation: https://pandas.pydata.org/pandas-docs/stable/user_guide/indexing.html#returning-a-view-versus-a-copy\n",
      "\n",
      "/var/folders/cs/hh3_26_57sx7l8sdk574zbdh0000gn/T/ipykernel_48097/3643416133.py:11: SettingWithCopyWarning:\n",
      "\n",
      "\n",
      "A value is trying to be set on a copy of a slice from a DataFrame.\n",
      "Try using .loc[row_indexer,col_indexer] = value instead\n",
      "\n",
      "See the caveats in the documentation: https://pandas.pydata.org/pandas-docs/stable/user_guide/indexing.html#returning-a-view-versus-a-copy\n",
      "\n",
      "/var/folders/cs/hh3_26_57sx7l8sdk574zbdh0000gn/T/ipykernel_48097/3643416133.py:13: SettingWithCopyWarning:\n",
      "\n",
      "\n",
      "A value is trying to be set on a copy of a slice from a DataFrame.\n",
      "Try using .loc[row_indexer,col_indexer] = value instead\n",
      "\n",
      "See the caveats in the documentation: https://pandas.pydata.org/pandas-docs/stable/user_guide/indexing.html#returning-a-view-versus-a-copy\n",
      "\n",
      "/var/folders/cs/hh3_26_57sx7l8sdk574zbdh0000gn/T/ipykernel_48097/3643416133.py:15: SettingWithCopyWarning:\n",
      "\n",
      "\n",
      "A value is trying to be set on a copy of a slice from a DataFrame.\n",
      "Try using .loc[row_indexer,col_indexer] = value instead\n",
      "\n",
      "See the caveats in the documentation: https://pandas.pydata.org/pandas-docs/stable/user_guide/indexing.html#returning-a-view-versus-a-copy\n",
      "\n",
      "/var/folders/cs/hh3_26_57sx7l8sdk574zbdh0000gn/T/ipykernel_48097/3643416133.py:17: SettingWithCopyWarning:\n",
      "\n",
      "\n",
      "A value is trying to be set on a copy of a slice from a DataFrame.\n",
      "Try using .loc[row_indexer,col_indexer] = value instead\n",
      "\n",
      "See the caveats in the documentation: https://pandas.pydata.org/pandas-docs/stable/user_guide/indexing.html#returning-a-view-versus-a-copy\n",
      "\n",
      "100%|██████████| 118/118 [01:18<00:00,  1.51it/s]\n",
      "/var/folders/cs/hh3_26_57sx7l8sdk574zbdh0000gn/T/ipykernel_48097/3643416133.py:5: SettingWithCopyWarning:\n",
      "\n",
      "\n",
      "A value is trying to be set on a copy of a slice from a DataFrame.\n",
      "Try using .loc[row_indexer,col_indexer] = value instead\n",
      "\n",
      "See the caveats in the documentation: https://pandas.pydata.org/pandas-docs/stable/user_guide/indexing.html#returning-a-view-versus-a-copy\n",
      "\n",
      "/var/folders/cs/hh3_26_57sx7l8sdk574zbdh0000gn/T/ipykernel_48097/3643416133.py:6: SettingWithCopyWarning:\n",
      "\n",
      "\n",
      "A value is trying to be set on a copy of a slice from a DataFrame.\n",
      "Try using .loc[row_indexer,col_indexer] = value instead\n",
      "\n",
      "See the caveats in the documentation: https://pandas.pydata.org/pandas-docs/stable/user_guide/indexing.html#returning-a-view-versus-a-copy\n",
      "\n",
      "/var/folders/cs/hh3_26_57sx7l8sdk574zbdh0000gn/T/ipykernel_48097/3643416133.py:7: SettingWithCopyWarning:\n",
      "\n",
      "\n",
      "A value is trying to be set on a copy of a slice from a DataFrame.\n",
      "Try using .loc[row_indexer,col_indexer] = value instead\n",
      "\n",
      "See the caveats in the documentation: https://pandas.pydata.org/pandas-docs/stable/user_guide/indexing.html#returning-a-view-versus-a-copy\n",
      "\n",
      "/var/folders/cs/hh3_26_57sx7l8sdk574zbdh0000gn/T/ipykernel_48097/3643416133.py:8: SettingWithCopyWarning:\n",
      "\n",
      "\n",
      "A value is trying to be set on a copy of a slice from a DataFrame.\n",
      "Try using .loc[row_indexer,col_indexer] = value instead\n",
      "\n",
      "See the caveats in the documentation: https://pandas.pydata.org/pandas-docs/stable/user_guide/indexing.html#returning-a-view-versus-a-copy\n",
      "\n",
      "/var/folders/cs/hh3_26_57sx7l8sdk574zbdh0000gn/T/ipykernel_48097/3643416133.py:9: SettingWithCopyWarning:\n",
      "\n",
      "\n",
      "A value is trying to be set on a copy of a slice from a DataFrame.\n",
      "Try using .loc[row_indexer,col_indexer] = value instead\n",
      "\n",
      "See the caveats in the documentation: https://pandas.pydata.org/pandas-docs/stable/user_guide/indexing.html#returning-a-view-versus-a-copy\n",
      "\n",
      "/var/folders/cs/hh3_26_57sx7l8sdk574zbdh0000gn/T/ipykernel_48097/3643416133.py:11: SettingWithCopyWarning:\n",
      "\n",
      "\n",
      "A value is trying to be set on a copy of a slice from a DataFrame.\n",
      "Try using .loc[row_indexer,col_indexer] = value instead\n",
      "\n",
      "See the caveats in the documentation: https://pandas.pydata.org/pandas-docs/stable/user_guide/indexing.html#returning-a-view-versus-a-copy\n",
      "\n",
      "/var/folders/cs/hh3_26_57sx7l8sdk574zbdh0000gn/T/ipykernel_48097/3643416133.py:13: SettingWithCopyWarning:\n",
      "\n",
      "\n",
      "A value is trying to be set on a copy of a slice from a DataFrame.\n",
      "Try using .loc[row_indexer,col_indexer] = value instead\n",
      "\n",
      "See the caveats in the documentation: https://pandas.pydata.org/pandas-docs/stable/user_guide/indexing.html#returning-a-view-versus-a-copy\n",
      "\n",
      "/var/folders/cs/hh3_26_57sx7l8sdk574zbdh0000gn/T/ipykernel_48097/3643416133.py:15: SettingWithCopyWarning:\n",
      "\n",
      "\n",
      "A value is trying to be set on a copy of a slice from a DataFrame.\n",
      "Try using .loc[row_indexer,col_indexer] = value instead\n",
      "\n",
      "See the caveats in the documentation: https://pandas.pydata.org/pandas-docs/stable/user_guide/indexing.html#returning-a-view-versus-a-copy\n",
      "\n",
      "/var/folders/cs/hh3_26_57sx7l8sdk574zbdh0000gn/T/ipykernel_48097/3643416133.py:17: SettingWithCopyWarning:\n",
      "\n",
      "\n",
      "A value is trying to be set on a copy of a slice from a DataFrame.\n",
      "Try using .loc[row_indexer,col_indexer] = value instead\n",
      "\n",
      "See the caveats in the documentation: https://pandas.pydata.org/pandas-docs/stable/user_guide/indexing.html#returning-a-view-versus-a-copy\n",
      "\n",
      "100%|██████████| 118/118 [01:16<00:00,  1.55it/s]\n",
      "/var/folders/cs/hh3_26_57sx7l8sdk574zbdh0000gn/T/ipykernel_48097/3643416133.py:5: SettingWithCopyWarning:\n",
      "\n",
      "\n",
      "A value is trying to be set on a copy of a slice from a DataFrame.\n",
      "Try using .loc[row_indexer,col_indexer] = value instead\n",
      "\n",
      "See the caveats in the documentation: https://pandas.pydata.org/pandas-docs/stable/user_guide/indexing.html#returning-a-view-versus-a-copy\n",
      "\n",
      "/var/folders/cs/hh3_26_57sx7l8sdk574zbdh0000gn/T/ipykernel_48097/3643416133.py:6: SettingWithCopyWarning:\n",
      "\n",
      "\n",
      "A value is trying to be set on a copy of a slice from a DataFrame.\n",
      "Try using .loc[row_indexer,col_indexer] = value instead\n",
      "\n",
      "See the caveats in the documentation: https://pandas.pydata.org/pandas-docs/stable/user_guide/indexing.html#returning-a-view-versus-a-copy\n",
      "\n",
      "/var/folders/cs/hh3_26_57sx7l8sdk574zbdh0000gn/T/ipykernel_48097/3643416133.py:7: SettingWithCopyWarning:\n",
      "\n",
      "\n",
      "A value is trying to be set on a copy of a slice from a DataFrame.\n",
      "Try using .loc[row_indexer,col_indexer] = value instead\n",
      "\n",
      "See the caveats in the documentation: https://pandas.pydata.org/pandas-docs/stable/user_guide/indexing.html#returning-a-view-versus-a-copy\n",
      "\n",
      "/var/folders/cs/hh3_26_57sx7l8sdk574zbdh0000gn/T/ipykernel_48097/3643416133.py:8: SettingWithCopyWarning:\n",
      "\n",
      "\n",
      "A value is trying to be set on a copy of a slice from a DataFrame.\n",
      "Try using .loc[row_indexer,col_indexer] = value instead\n",
      "\n",
      "See the caveats in the documentation: https://pandas.pydata.org/pandas-docs/stable/user_guide/indexing.html#returning-a-view-versus-a-copy\n",
      "\n",
      "/var/folders/cs/hh3_26_57sx7l8sdk574zbdh0000gn/T/ipykernel_48097/3643416133.py:9: SettingWithCopyWarning:\n",
      "\n",
      "\n",
      "A value is trying to be set on a copy of a slice from a DataFrame.\n",
      "Try using .loc[row_indexer,col_indexer] = value instead\n",
      "\n",
      "See the caveats in the documentation: https://pandas.pydata.org/pandas-docs/stable/user_guide/indexing.html#returning-a-view-versus-a-copy\n",
      "\n",
      "/var/folders/cs/hh3_26_57sx7l8sdk574zbdh0000gn/T/ipykernel_48097/3643416133.py:11: SettingWithCopyWarning:\n",
      "\n",
      "\n",
      "A value is trying to be set on a copy of a slice from a DataFrame.\n",
      "Try using .loc[row_indexer,col_indexer] = value instead\n",
      "\n",
      "See the caveats in the documentation: https://pandas.pydata.org/pandas-docs/stable/user_guide/indexing.html#returning-a-view-versus-a-copy\n",
      "\n",
      "/var/folders/cs/hh3_26_57sx7l8sdk574zbdh0000gn/T/ipykernel_48097/3643416133.py:13: SettingWithCopyWarning:\n",
      "\n",
      "\n",
      "A value is trying to be set on a copy of a slice from a DataFrame.\n",
      "Try using .loc[row_indexer,col_indexer] = value instead\n",
      "\n",
      "See the caveats in the documentation: https://pandas.pydata.org/pandas-docs/stable/user_guide/indexing.html#returning-a-view-versus-a-copy\n",
      "\n",
      "/var/folders/cs/hh3_26_57sx7l8sdk574zbdh0000gn/T/ipykernel_48097/3643416133.py:15: SettingWithCopyWarning:\n",
      "\n",
      "\n",
      "A value is trying to be set on a copy of a slice from a DataFrame.\n",
      "Try using .loc[row_indexer,col_indexer] = value instead\n",
      "\n",
      "See the caveats in the documentation: https://pandas.pydata.org/pandas-docs/stable/user_guide/indexing.html#returning-a-view-versus-a-copy\n",
      "\n",
      "/var/folders/cs/hh3_26_57sx7l8sdk574zbdh0000gn/T/ipykernel_48097/3643416133.py:17: SettingWithCopyWarning:\n",
      "\n",
      "\n",
      "A value is trying to be set on a copy of a slice from a DataFrame.\n",
      "Try using .loc[row_indexer,col_indexer] = value instead\n",
      "\n",
      "See the caveats in the documentation: https://pandas.pydata.org/pandas-docs/stable/user_guide/indexing.html#returning-a-view-versus-a-copy\n",
      "\n",
      "100%|██████████| 118/118 [01:21<00:00,  1.45it/s]\n",
      "/var/folders/cs/hh3_26_57sx7l8sdk574zbdh0000gn/T/ipykernel_48097/3643416133.py:5: SettingWithCopyWarning:\n",
      "\n",
      "\n",
      "A value is trying to be set on a copy of a slice from a DataFrame.\n",
      "Try using .loc[row_indexer,col_indexer] = value instead\n",
      "\n",
      "See the caveats in the documentation: https://pandas.pydata.org/pandas-docs/stable/user_guide/indexing.html#returning-a-view-versus-a-copy\n",
      "\n",
      "/var/folders/cs/hh3_26_57sx7l8sdk574zbdh0000gn/T/ipykernel_48097/3643416133.py:6: SettingWithCopyWarning:\n",
      "\n",
      "\n",
      "A value is trying to be set on a copy of a slice from a DataFrame.\n",
      "Try using .loc[row_indexer,col_indexer] = value instead\n",
      "\n",
      "See the caveats in the documentation: https://pandas.pydata.org/pandas-docs/stable/user_guide/indexing.html#returning-a-view-versus-a-copy\n",
      "\n",
      "/var/folders/cs/hh3_26_57sx7l8sdk574zbdh0000gn/T/ipykernel_48097/3643416133.py:7: SettingWithCopyWarning:\n",
      "\n",
      "\n",
      "A value is trying to be set on a copy of a slice from a DataFrame.\n",
      "Try using .loc[row_indexer,col_indexer] = value instead\n",
      "\n",
      "See the caveats in the documentation: https://pandas.pydata.org/pandas-docs/stable/user_guide/indexing.html#returning-a-view-versus-a-copy\n",
      "\n",
      "/var/folders/cs/hh3_26_57sx7l8sdk574zbdh0000gn/T/ipykernel_48097/3643416133.py:8: SettingWithCopyWarning:\n",
      "\n",
      "\n",
      "A value is trying to be set on a copy of a slice from a DataFrame.\n",
      "Try using .loc[row_indexer,col_indexer] = value instead\n",
      "\n",
      "See the caveats in the documentation: https://pandas.pydata.org/pandas-docs/stable/user_guide/indexing.html#returning-a-view-versus-a-copy\n",
      "\n",
      "/var/folders/cs/hh3_26_57sx7l8sdk574zbdh0000gn/T/ipykernel_48097/3643416133.py:9: SettingWithCopyWarning:\n",
      "\n",
      "\n",
      "A value is trying to be set on a copy of a slice from a DataFrame.\n",
      "Try using .loc[row_indexer,col_indexer] = value instead\n",
      "\n",
      "See the caveats in the documentation: https://pandas.pydata.org/pandas-docs/stable/user_guide/indexing.html#returning-a-view-versus-a-copy\n",
      "\n",
      "/var/folders/cs/hh3_26_57sx7l8sdk574zbdh0000gn/T/ipykernel_48097/3643416133.py:11: SettingWithCopyWarning:\n",
      "\n",
      "\n",
      "A value is trying to be set on a copy of a slice from a DataFrame.\n",
      "Try using .loc[row_indexer,col_indexer] = value instead\n",
      "\n",
      "See the caveats in the documentation: https://pandas.pydata.org/pandas-docs/stable/user_guide/indexing.html#returning-a-view-versus-a-copy\n",
      "\n",
      "/var/folders/cs/hh3_26_57sx7l8sdk574zbdh0000gn/T/ipykernel_48097/3643416133.py:13: SettingWithCopyWarning:\n",
      "\n",
      "\n",
      "A value is trying to be set on a copy of a slice from a DataFrame.\n",
      "Try using .loc[row_indexer,col_indexer] = value instead\n",
      "\n",
      "See the caveats in the documentation: https://pandas.pydata.org/pandas-docs/stable/user_guide/indexing.html#returning-a-view-versus-a-copy\n",
      "\n",
      "/var/folders/cs/hh3_26_57sx7l8sdk574zbdh0000gn/T/ipykernel_48097/3643416133.py:15: SettingWithCopyWarning:\n",
      "\n",
      "\n",
      "A value is trying to be set on a copy of a slice from a DataFrame.\n",
      "Try using .loc[row_indexer,col_indexer] = value instead\n",
      "\n",
      "See the caveats in the documentation: https://pandas.pydata.org/pandas-docs/stable/user_guide/indexing.html#returning-a-view-versus-a-copy\n",
      "\n",
      "/var/folders/cs/hh3_26_57sx7l8sdk574zbdh0000gn/T/ipykernel_48097/3643416133.py:17: SettingWithCopyWarning:\n",
      "\n",
      "\n",
      "A value is trying to be set on a copy of a slice from a DataFrame.\n",
      "Try using .loc[row_indexer,col_indexer] = value instead\n",
      "\n",
      "See the caveats in the documentation: https://pandas.pydata.org/pandas-docs/stable/user_guide/indexing.html#returning-a-view-versus-a-copy\n",
      "\n",
      "100%|██████████| 118/118 [01:23<00:00,  1.42it/s]\n",
      "/var/folders/cs/hh3_26_57sx7l8sdk574zbdh0000gn/T/ipykernel_48097/3643416133.py:5: SettingWithCopyWarning:\n",
      "\n",
      "\n",
      "A value is trying to be set on a copy of a slice from a DataFrame.\n",
      "Try using .loc[row_indexer,col_indexer] = value instead\n",
      "\n",
      "See the caveats in the documentation: https://pandas.pydata.org/pandas-docs/stable/user_guide/indexing.html#returning-a-view-versus-a-copy\n",
      "\n",
      "/var/folders/cs/hh3_26_57sx7l8sdk574zbdh0000gn/T/ipykernel_48097/3643416133.py:6: SettingWithCopyWarning:\n",
      "\n",
      "\n",
      "A value is trying to be set on a copy of a slice from a DataFrame.\n",
      "Try using .loc[row_indexer,col_indexer] = value instead\n",
      "\n",
      "See the caveats in the documentation: https://pandas.pydata.org/pandas-docs/stable/user_guide/indexing.html#returning-a-view-versus-a-copy\n",
      "\n",
      "/var/folders/cs/hh3_26_57sx7l8sdk574zbdh0000gn/T/ipykernel_48097/3643416133.py:7: SettingWithCopyWarning:\n",
      "\n",
      "\n",
      "A value is trying to be set on a copy of a slice from a DataFrame.\n",
      "Try using .loc[row_indexer,col_indexer] = value instead\n",
      "\n",
      "See the caveats in the documentation: https://pandas.pydata.org/pandas-docs/stable/user_guide/indexing.html#returning-a-view-versus-a-copy\n",
      "\n",
      "/var/folders/cs/hh3_26_57sx7l8sdk574zbdh0000gn/T/ipykernel_48097/3643416133.py:8: SettingWithCopyWarning:\n",
      "\n",
      "\n",
      "A value is trying to be set on a copy of a slice from a DataFrame.\n",
      "Try using .loc[row_indexer,col_indexer] = value instead\n",
      "\n",
      "See the caveats in the documentation: https://pandas.pydata.org/pandas-docs/stable/user_guide/indexing.html#returning-a-view-versus-a-copy\n",
      "\n",
      "/var/folders/cs/hh3_26_57sx7l8sdk574zbdh0000gn/T/ipykernel_48097/3643416133.py:9: SettingWithCopyWarning:\n",
      "\n",
      "\n",
      "A value is trying to be set on a copy of a slice from a DataFrame.\n",
      "Try using .loc[row_indexer,col_indexer] = value instead\n",
      "\n",
      "See the caveats in the documentation: https://pandas.pydata.org/pandas-docs/stable/user_guide/indexing.html#returning-a-view-versus-a-copy\n",
      "\n",
      "/var/folders/cs/hh3_26_57sx7l8sdk574zbdh0000gn/T/ipykernel_48097/3643416133.py:11: SettingWithCopyWarning:\n",
      "\n",
      "\n",
      "A value is trying to be set on a copy of a slice from a DataFrame.\n",
      "Try using .loc[row_indexer,col_indexer] = value instead\n",
      "\n",
      "See the caveats in the documentation: https://pandas.pydata.org/pandas-docs/stable/user_guide/indexing.html#returning-a-view-versus-a-copy\n",
      "\n",
      "/var/folders/cs/hh3_26_57sx7l8sdk574zbdh0000gn/T/ipykernel_48097/3643416133.py:13: SettingWithCopyWarning:\n",
      "\n",
      "\n",
      "A value is trying to be set on a copy of a slice from a DataFrame.\n",
      "Try using .loc[row_indexer,col_indexer] = value instead\n",
      "\n",
      "See the caveats in the documentation: https://pandas.pydata.org/pandas-docs/stable/user_guide/indexing.html#returning-a-view-versus-a-copy\n",
      "\n",
      "/var/folders/cs/hh3_26_57sx7l8sdk574zbdh0000gn/T/ipykernel_48097/3643416133.py:15: SettingWithCopyWarning:\n",
      "\n",
      "\n",
      "A value is trying to be set on a copy of a slice from a DataFrame.\n",
      "Try using .loc[row_indexer,col_indexer] = value instead\n",
      "\n",
      "See the caveats in the documentation: https://pandas.pydata.org/pandas-docs/stable/user_guide/indexing.html#returning-a-view-versus-a-copy\n",
      "\n",
      "/var/folders/cs/hh3_26_57sx7l8sdk574zbdh0000gn/T/ipykernel_48097/3643416133.py:17: SettingWithCopyWarning:\n",
      "\n",
      "\n",
      "A value is trying to be set on a copy of a slice from a DataFrame.\n",
      "Try using .loc[row_indexer,col_indexer] = value instead\n",
      "\n",
      "See the caveats in the documentation: https://pandas.pydata.org/pandas-docs/stable/user_guide/indexing.html#returning-a-view-versus-a-copy\n",
      "\n",
      "100%|██████████| 118/118 [05:06<00:00,  2.60s/it]\n",
      "/var/folders/cs/hh3_26_57sx7l8sdk574zbdh0000gn/T/ipykernel_48097/3643416133.py:5: SettingWithCopyWarning:\n",
      "\n",
      "\n",
      "A value is trying to be set on a copy of a slice from a DataFrame.\n",
      "Try using .loc[row_indexer,col_indexer] = value instead\n",
      "\n",
      "See the caveats in the documentation: https://pandas.pydata.org/pandas-docs/stable/user_guide/indexing.html#returning-a-view-versus-a-copy\n",
      "\n",
      "/var/folders/cs/hh3_26_57sx7l8sdk574zbdh0000gn/T/ipykernel_48097/3643416133.py:6: SettingWithCopyWarning:\n",
      "\n",
      "\n",
      "A value is trying to be set on a copy of a slice from a DataFrame.\n",
      "Try using .loc[row_indexer,col_indexer] = value instead\n",
      "\n",
      "See the caveats in the documentation: https://pandas.pydata.org/pandas-docs/stable/user_guide/indexing.html#returning-a-view-versus-a-copy\n",
      "\n",
      "/var/folders/cs/hh3_26_57sx7l8sdk574zbdh0000gn/T/ipykernel_48097/3643416133.py:7: SettingWithCopyWarning:\n",
      "\n",
      "\n",
      "A value is trying to be set on a copy of a slice from a DataFrame.\n",
      "Try using .loc[row_indexer,col_indexer] = value instead\n",
      "\n",
      "See the caveats in the documentation: https://pandas.pydata.org/pandas-docs/stable/user_guide/indexing.html#returning-a-view-versus-a-copy\n",
      "\n",
      "/var/folders/cs/hh3_26_57sx7l8sdk574zbdh0000gn/T/ipykernel_48097/3643416133.py:8: SettingWithCopyWarning:\n",
      "\n",
      "\n",
      "A value is trying to be set on a copy of a slice from a DataFrame.\n",
      "Try using .loc[row_indexer,col_indexer] = value instead\n",
      "\n",
      "See the caveats in the documentation: https://pandas.pydata.org/pandas-docs/stable/user_guide/indexing.html#returning-a-view-versus-a-copy\n",
      "\n",
      "/var/folders/cs/hh3_26_57sx7l8sdk574zbdh0000gn/T/ipykernel_48097/3643416133.py:9: SettingWithCopyWarning:\n",
      "\n",
      "\n",
      "A value is trying to be set on a copy of a slice from a DataFrame.\n",
      "Try using .loc[row_indexer,col_indexer] = value instead\n",
      "\n",
      "See the caveats in the documentation: https://pandas.pydata.org/pandas-docs/stable/user_guide/indexing.html#returning-a-view-versus-a-copy\n",
      "\n",
      "/var/folders/cs/hh3_26_57sx7l8sdk574zbdh0000gn/T/ipykernel_48097/3643416133.py:11: SettingWithCopyWarning:\n",
      "\n",
      "\n",
      "A value is trying to be set on a copy of a slice from a DataFrame.\n",
      "Try using .loc[row_indexer,col_indexer] = value instead\n",
      "\n",
      "See the caveats in the documentation: https://pandas.pydata.org/pandas-docs/stable/user_guide/indexing.html#returning-a-view-versus-a-copy\n",
      "\n",
      "/var/folders/cs/hh3_26_57sx7l8sdk574zbdh0000gn/T/ipykernel_48097/3643416133.py:13: SettingWithCopyWarning:\n",
      "\n",
      "\n",
      "A value is trying to be set on a copy of a slice from a DataFrame.\n",
      "Try using .loc[row_indexer,col_indexer] = value instead\n",
      "\n",
      "See the caveats in the documentation: https://pandas.pydata.org/pandas-docs/stable/user_guide/indexing.html#returning-a-view-versus-a-copy\n",
      "\n",
      "/var/folders/cs/hh3_26_57sx7l8sdk574zbdh0000gn/T/ipykernel_48097/3643416133.py:15: SettingWithCopyWarning:\n",
      "\n",
      "\n",
      "A value is trying to be set on a copy of a slice from a DataFrame.\n",
      "Try using .loc[row_indexer,col_indexer] = value instead\n",
      "\n",
      "See the caveats in the documentation: https://pandas.pydata.org/pandas-docs/stable/user_guide/indexing.html#returning-a-view-versus-a-copy\n",
      "\n",
      "/var/folders/cs/hh3_26_57sx7l8sdk574zbdh0000gn/T/ipykernel_48097/3643416133.py:17: SettingWithCopyWarning:\n",
      "\n",
      "\n",
      "A value is trying to be set on a copy of a slice from a DataFrame.\n",
      "Try using .loc[row_indexer,col_indexer] = value instead\n",
      "\n",
      "See the caveats in the documentation: https://pandas.pydata.org/pandas-docs/stable/user_guide/indexing.html#returning-a-view-versus-a-copy\n",
      "\n",
      "100%|██████████| 118/118 [6:01:28<00:00, 183.80s/it]  \n"
     ]
    }
   ],
   "source": [
    "for key in titres :\n",
    "    predictions_dic[key] = stock_forecast(titres[key])"
   ]
  },
  {
   "cell_type": "code",
   "execution_count": 61,
   "id": "e026f8c6bd6fa0bb",
   "metadata": {
    "ExecuteTime": {
     "end_time": "2024-01-18T17:55:48.572355Z",
     "start_time": "2024-01-18T17:55:48.555091Z"
    },
    "collapsed": false
   },
   "outputs": [
    {
     "name": "stdout",
     "output_type": "stream",
     "text": [
      "Index(['Date', 'Open', 'High', 'Low', 'Close', 'Volume', 'dailyChange',\n",
      "       'VolMA10', 'priceDirection', 'Std_dev', 'Williams%R',\n",
      "       'Volatility_HighLow_10days', 'Return', 'Prediction'],\n",
      "      dtype='object')\n",
      "Index(['Date', 'Open', 'High', 'Low', 'Close', 'Volume', 'dailyChange',\n",
      "       'VolMA10', 'priceDirection', 'Std_dev', 'Williams%R',\n",
      "       'Volatility_HighLow_10days', 'Return', 'Prediction'],\n",
      "      dtype='object')\n",
      "Index(['Date', 'Open', 'High', 'Low', 'Close', 'Volume', 'dailyChange',\n",
      "       'VolMA10', 'priceDirection', 'Std_dev', 'Williams%R',\n",
      "       'Volatility_HighLow_10days', 'Return', 'Prediction'],\n",
      "      dtype='object')\n",
      "Index(['Date', 'Open', 'High', 'Low', 'Close', 'Volume', 'dailyChange',\n",
      "       'VolMA10', 'priceDirection', 'Std_dev', 'Williams%R',\n",
      "       'Volatility_HighLow_10days', 'Return', 'Prediction'],\n",
      "      dtype='object')\n",
      "Index(['Date', 'Open', 'High', 'Low', 'Close', 'Volume', 'dailyChange',\n",
      "       'VolMA10', 'priceDirection', 'Std_dev', 'Williams%R',\n",
      "       'Volatility_HighLow_10days', 'Return', 'Prediction'],\n",
      "      dtype='object')\n",
      "Index(['Date', 'Open', 'High', 'Low', 'Close', 'Volume', 'dailyChange',\n",
      "       'VolMA10', 'priceDirection', 'Std_dev', 'Williams%R',\n",
      "       'Volatility_HighLow_10days', 'Return', 'Prediction'],\n",
      "      dtype='object')\n",
      "Index(['Date', 'Open', 'High', 'Low', 'Close', 'Volume', 'dailyChange',\n",
      "       'VolMA10', 'priceDirection', 'Std_dev', 'Williams%R',\n",
      "       'Volatility_HighLow_10days', 'Return', 'Prediction'],\n",
      "      dtype='object')\n",
      "Index(['Date', 'Open', 'High', 'Low', 'Close', 'Volume', 'dailyChange',\n",
      "       'VolMA10', 'priceDirection', 'Std_dev', 'Williams%R',\n",
      "       'Volatility_HighLow_10days', 'Return', 'Prediction'],\n",
      "      dtype='object')\n",
      "Index(['Date', 'Open', 'High', 'Low', 'Close', 'Volume', 'dailyChange',\n",
      "       'VolMA10', 'priceDirection', 'Std_dev', 'Williams%R',\n",
      "       'Volatility_HighLow_10days', 'Return', 'Prediction'],\n",
      "      dtype='object')\n",
      "Index(['Date', 'Open', 'High', 'Low', 'Close', 'Volume', 'dailyChange',\n",
      "       'VolMA10', 'priceDirection', 'Std_dev', 'Williams%R',\n",
      "       'Volatility_HighLow_10days', 'Return', 'Prediction'],\n",
      "      dtype='object')\n",
      "        Date  Prediction    Return\n",
      "0 2020-09-04    0.003060 -0.011067\n",
      "1 2020-09-16    0.005865 -0.012945\n",
      "2 2020-09-25    0.000699  0.026235\n",
      "3 2020-10-06    0.009542 -0.017798\n",
      "4 2020-10-15    0.001365 -0.005638\n"
     ]
    }
   ],
   "source": [
    "dfs_to_concat = []\n",
    "\n",
    "for name, df in predictions_dic.items():\n",
    "\n",
    "    df['Date'] = pd.to_datetime(df['Date'])\n",
    "    print(df.columns)\n",
    "    dfs_to_concat.append(df[['Date', 'Prediction', \"Return\"]])\n",
    "\n",
    "portfolio_predictions = pd.concat(dfs_to_concat)\n",
    "\n",
    "portfolio_avg_predictions = portfolio_predictions.groupby('Date').mean().reset_index()\n",
    "\n",
    "print(portfolio_avg_predictions.head())"
   ]
  },
  {
   "cell_type": "code",
   "execution_count": 62,
   "id": "97c90c53",
   "metadata": {},
   "outputs": [],
   "source": [
    "portfolio_avg_predictions['Real_Portfolio_Value'] = 1000 * (1 + portfolio_avg_predictions['Return']).cumprod()\n",
    "portfolio_avg_predictions['Predicted_Portfolio_Value'] = 1000 * (1 + portfolio_avg_predictions['Prediction']).cumprod()"
   ]
  },
  {
   "cell_type": "code",
   "execution_count": 63,
   "id": "d3c3ac7f2bb42492",
   "metadata": {
    "ExecuteTime": {
     "end_time": "2024-01-18T18:23:25.760988Z",
     "start_time": "2024-01-18T18:23:25.749522Z"
    },
    "collapsed": false
   },
   "outputs": [
    {
     "data": {
      "application/vnd.plotly.v1+json": {
       "config": {
        "plotlyServerURL": "https://plot.ly"
       },
       "data": [
        {
         "fill": "tozeroy",
         "mode": "lines",
         "name": "Return_predict",
         "type": "scatter",
         "x": [
          "2020-09-04T00:00:00",
          "2020-09-16T00:00:00",
          "2020-09-25T00:00:00",
          "2020-10-06T00:00:00",
          "2020-10-15T00:00:00",
          "2020-10-26T00:00:00",
          "2020-11-04T00:00:00",
          "2020-11-13T00:00:00",
          "2020-11-24T00:00:00",
          "2020-12-04T00:00:00",
          "2020-12-15T00:00:00",
          "2020-12-24T00:00:00",
          "2021-01-06T00:00:00",
          "2021-01-15T00:00:00",
          "2021-01-27T00:00:00",
          "2021-02-05T00:00:00",
          "2021-02-17T00:00:00",
          "2021-02-26T00:00:00",
          "2021-03-09T00:00:00",
          "2021-03-18T00:00:00",
          "2021-03-29T00:00:00",
          "2021-04-08T00:00:00",
          "2021-04-19T00:00:00",
          "2021-04-28T00:00:00",
          "2021-05-07T00:00:00",
          "2021-05-18T00:00:00",
          "2021-05-27T00:00:00",
          "2021-06-08T00:00:00",
          "2021-06-17T00:00:00",
          "2021-06-28T00:00:00",
          "2021-07-08T00:00:00",
          "2021-07-19T00:00:00",
          "2021-07-28T00:00:00",
          "2021-08-06T00:00:00",
          "2021-08-17T00:00:00",
          "2021-08-26T00:00:00",
          "2021-09-07T00:00:00",
          "2021-09-16T00:00:00",
          "2021-09-27T00:00:00",
          "2021-10-06T00:00:00",
          "2021-10-15T00:00:00",
          "2021-10-26T00:00:00",
          "2021-11-04T00:00:00",
          "2021-11-15T00:00:00",
          "2021-11-24T00:00:00",
          "2021-12-06T00:00:00",
          "2021-12-15T00:00:00",
          "2021-12-27T00:00:00",
          "2022-01-05T00:00:00",
          "2022-01-14T00:00:00",
          "2022-01-26T00:00:00",
          "2022-02-04T00:00:00",
          "2022-02-15T00:00:00",
          "2022-02-25T00:00:00",
          "2022-03-08T00:00:00",
          "2022-03-17T00:00:00",
          "2022-03-28T00:00:00",
          "2022-04-06T00:00:00",
          "2022-04-18T00:00:00",
          "2022-04-27T00:00:00",
          "2022-05-06T00:00:00",
          "2022-05-17T00:00:00",
          "2022-05-26T00:00:00",
          "2022-06-07T00:00:00",
          "2022-06-16T00:00:00",
          "2022-06-28T00:00:00",
          "2022-07-08T00:00:00",
          "2022-07-19T00:00:00",
          "2022-07-28T00:00:00",
          "2022-08-08T00:00:00",
          "2022-08-17T00:00:00",
          "2022-08-26T00:00:00",
          "2022-09-07T00:00:00",
          "2022-09-16T00:00:00",
          "2022-09-27T00:00:00",
          "2022-10-06T00:00:00",
          "2022-10-17T00:00:00",
          "2022-10-26T00:00:00",
          "2022-11-04T00:00:00",
          "2022-11-15T00:00:00",
          "2022-11-25T00:00:00",
          "2022-12-06T00:00:00",
          "2022-12-15T00:00:00",
          "2022-12-27T00:00:00",
          "2023-01-06T00:00:00",
          "2023-01-18T00:00:00",
          "2023-01-27T00:00:00",
          "2023-02-07T00:00:00",
          "2023-02-16T00:00:00",
          "2023-02-28T00:00:00",
          "2023-03-09T00:00:00",
          "2023-03-20T00:00:00",
          "2023-03-29T00:00:00",
          "2023-04-10T00:00:00",
          "2023-04-19T00:00:00",
          "2023-04-28T00:00:00",
          "2023-05-09T00:00:00",
          "2023-05-18T00:00:00",
          "2023-05-30T00:00:00",
          "2023-06-08T00:00:00",
          "2023-06-20T00:00:00",
          "2023-06-29T00:00:00",
          "2023-07-11T00:00:00",
          "2023-07-20T00:00:00",
          "2023-07-31T00:00:00",
          "2023-08-09T00:00:00",
          "2023-08-18T00:00:00",
          "2023-08-29T00:00:00",
          "2023-09-08T00:00:00",
          "2023-09-19T00:00:00",
          "2023-09-28T00:00:00",
          "2023-10-09T00:00:00",
          "2023-10-18T00:00:00",
          "2023-10-27T00:00:00",
          "2023-11-07T00:00:00",
          "2023-11-16T00:00:00",
          "2023-11-28T00:00:00",
          "2023-12-07T00:00:00"
         ],
         "y": [
          1003.0602416992188,
          1008.9431762695312,
          1009.6488037109375,
          1019.2833251953125,
          1020.6743774414062,
          1013.6561279296875,
          1023.7655639648438,
          1018.215087890625,
          1021.8958740234375,
          1026.4833984375,
          1039.4959716796875,
          1041.12841796875,
          1040.0283203125,
          1049.273193359375,
          1043.17822265625,
          1042.305419921875,
          1036.6246337890625,
          1036.5797119140625,
          1059.7557373046875,
          1066.0015869140625,
          1058.69482421875,
          1060.32666015625,
          1067.60400390625,
          1069.1744384765625,
          1060.900390625,
          1068.992919921875,
          1066.4664306640625,
          1063.49560546875,
          1065.485595703125,
          1067.8050537109375,
          1063.720458984375,
          1071.604248046875,
          1070.4305419921875,
          1064.71142578125,
          1067.7569580078125,
          1076.0440673828125,
          1084.7913818359375,
          1086.059326171875,
          1088.07763671875,
          1090.79052734375,
          1095.227783203125,
          1098.6776123046875,
          1093.051513671875,
          1105.36376953125,
          1111.7274169921875,
          1117.8292236328125,
          1109.8355712890625,
          1112.9693603515625,
          1112.8974609375,
          1105.3345947265625,
          1120.68701171875,
          1109.1387939453125,
          1108.082763671875,
          1113.718994140625,
          1103.72412109375,
          1096.591552734375,
          1094.126220703125,
          1098.06591796875,
          1112.418701171875,
          1124.873046875,
          1116.6190185546875,
          1108.84619140625,
          1109.6844482421875,
          1097.357177734375,
          1101.5841064453125,
          1097.9609375,
          1088.6380615234375,
          1082.4114990234375,
          1080.6094970703125,
          1081.2047119140625,
          1072.0023193359375,
          1074.9173583984375,
          1075.8675537109375,
          1063.9111328125,
          1051.30029296875,
          1048.13525390625,
          1050.37353515625,
          1047.071533203125,
          1019.2462158203125,
          1023.300537109375,
          1012.0017700195312,
          1013.667724609375,
          1017.1995239257812,
          1021.4652099609375,
          1026.8974609375,
          1026.3084716796875,
          1043.4698486328125,
          1027.035888671875,
          1031.8746337890625,
          1037.7020263671875,
          1039.5191650390625,
          1046.1378173828125,
          1060.4449462890625,
          1060.4703369140625,
          1056.6712646484375,
          1053.8818359375,
          1052.0960693359375,
          1057.5919189453125,
          1061.8226318359375,
          1071.5498046875,
          1070.1048583984375,
          1079.5203857421875,
          1085.2845458984375,
          1083.7210693359375,
          1086.6455078125,
          1092.1549072265625,
          1087.1990966796875,
          1092.7435302734375,
          1086.8199462890625,
          1080.6038818359375,
          1084.4234619140625,
          1084.1558837890625,
          1078.18701171875,
          1083.3297119140625,
          1075.951171875,
          1068.3743896484375,
          1066.0418701171875,
          1066.6060791015625
         ]
        },
        {
         "fill": "tozeroy",
         "mode": "lines",
         "name": "Return_reel",
         "type": "scatter",
         "x": [
          "2020-09-04T00:00:00",
          "2020-09-16T00:00:00",
          "2020-09-25T00:00:00",
          "2020-10-06T00:00:00",
          "2020-10-15T00:00:00",
          "2020-10-26T00:00:00",
          "2020-11-04T00:00:00",
          "2020-11-13T00:00:00",
          "2020-11-24T00:00:00",
          "2020-12-04T00:00:00",
          "2020-12-15T00:00:00",
          "2020-12-24T00:00:00",
          "2021-01-06T00:00:00",
          "2021-01-15T00:00:00",
          "2021-01-27T00:00:00",
          "2021-02-05T00:00:00",
          "2021-02-17T00:00:00",
          "2021-02-26T00:00:00",
          "2021-03-09T00:00:00",
          "2021-03-18T00:00:00",
          "2021-03-29T00:00:00",
          "2021-04-08T00:00:00",
          "2021-04-19T00:00:00",
          "2021-04-28T00:00:00",
          "2021-05-07T00:00:00",
          "2021-05-18T00:00:00",
          "2021-05-27T00:00:00",
          "2021-06-08T00:00:00",
          "2021-06-17T00:00:00",
          "2021-06-28T00:00:00",
          "2021-07-08T00:00:00",
          "2021-07-19T00:00:00",
          "2021-07-28T00:00:00",
          "2021-08-06T00:00:00",
          "2021-08-17T00:00:00",
          "2021-08-26T00:00:00",
          "2021-09-07T00:00:00",
          "2021-09-16T00:00:00",
          "2021-09-27T00:00:00",
          "2021-10-06T00:00:00",
          "2021-10-15T00:00:00",
          "2021-10-26T00:00:00",
          "2021-11-04T00:00:00",
          "2021-11-15T00:00:00",
          "2021-11-24T00:00:00",
          "2021-12-06T00:00:00",
          "2021-12-15T00:00:00",
          "2021-12-27T00:00:00",
          "2022-01-05T00:00:00",
          "2022-01-14T00:00:00",
          "2022-01-26T00:00:00",
          "2022-02-04T00:00:00",
          "2022-02-15T00:00:00",
          "2022-02-25T00:00:00",
          "2022-03-08T00:00:00",
          "2022-03-17T00:00:00",
          "2022-03-28T00:00:00",
          "2022-04-06T00:00:00",
          "2022-04-18T00:00:00",
          "2022-04-27T00:00:00",
          "2022-05-06T00:00:00",
          "2022-05-17T00:00:00",
          "2022-05-26T00:00:00",
          "2022-06-07T00:00:00",
          "2022-06-16T00:00:00",
          "2022-06-28T00:00:00",
          "2022-07-08T00:00:00",
          "2022-07-19T00:00:00",
          "2022-07-28T00:00:00",
          "2022-08-08T00:00:00",
          "2022-08-17T00:00:00",
          "2022-08-26T00:00:00",
          "2022-09-07T00:00:00",
          "2022-09-16T00:00:00",
          "2022-09-27T00:00:00",
          "2022-10-06T00:00:00",
          "2022-10-17T00:00:00",
          "2022-10-26T00:00:00",
          "2022-11-04T00:00:00",
          "2022-11-15T00:00:00",
          "2022-11-25T00:00:00",
          "2022-12-06T00:00:00",
          "2022-12-15T00:00:00",
          "2022-12-27T00:00:00",
          "2023-01-06T00:00:00",
          "2023-01-18T00:00:00",
          "2023-01-27T00:00:00",
          "2023-02-07T00:00:00",
          "2023-02-16T00:00:00",
          "2023-02-28T00:00:00",
          "2023-03-09T00:00:00",
          "2023-03-20T00:00:00",
          "2023-03-29T00:00:00",
          "2023-04-10T00:00:00",
          "2023-04-19T00:00:00",
          "2023-04-28T00:00:00",
          "2023-05-09T00:00:00",
          "2023-05-18T00:00:00",
          "2023-05-30T00:00:00",
          "2023-06-08T00:00:00",
          "2023-06-20T00:00:00",
          "2023-06-29T00:00:00",
          "2023-07-11T00:00:00",
          "2023-07-20T00:00:00",
          "2023-07-31T00:00:00",
          "2023-08-09T00:00:00",
          "2023-08-18T00:00:00",
          "2023-08-29T00:00:00",
          "2023-09-08T00:00:00",
          "2023-09-19T00:00:00",
          "2023-09-28T00:00:00",
          "2023-10-09T00:00:00",
          "2023-10-18T00:00:00",
          "2023-10-27T00:00:00",
          "2023-11-07T00:00:00",
          "2023-11-16T00:00:00",
          "2023-11-28T00:00:00",
          "2023-12-07T00:00:00"
         ],
         "y": [
          988.9332370522685,
          976.1317397966229,
          1001.7405082805482,
          983.9112949203492,
          978.3640310820164,
          960.2122942822905,
          1002.8299114616184,
          1008.2034228755914,
          1030.9780321569183,
          1035.4644471555434,
          1045.00204974654,
          1050.3890365858758,
          1043.376650729877,
          1032.689981000319,
          1008.6749556980855,
          1012.6559837412781,
          1012.1701963574056,
          1015.8029553347552,
          1059.7708072627029,
          1031.251568002087,
          1036.1552427966972,
          1042.7852569461622,
          1032.0422819888668,
          1034.8485705794403,
          1042.364223267455,
          1032.4548650150357,
          1029.936635818067,
          1032.9622385771381,
          1042.091610630384,
          1053.9834175712028,
          1046.9353876774674,
          1034.3345123292868,
          1034.4682165943118,
          1033.6513738980987,
          1021.8799229941255,
          1014.2273813384479,
          1018.3188039787921,
          1016.046156465063,
          1015.5342033680639,
          1020.7420774364224,
          1031.7979990910424,
          1041.3308304119953,
          1061.4576866260459,
          1058.9709089092325,
          1065.1656470791297,
          1076.8476242279457,
          1101.7555042184517,
          1121.160982755093,
          1091.5629996435273,
          1103.6100064466968,
          1110.4733333056972,
          1133.6620570575421,
          1158.6684616052005,
          1181.9180568223003,
          1180.4530929340879,
          1202.0210282897908,
          1218.6890077794155,
          1192.5683533169595,
          1201.446672528906,
          1198.86397049367,
          1193.6984012732041,
          1224.4254955179683,
          1260.2075385121973,
          1272.9390254993002,
          1219.3233768934383,
          1184.5299856007316,
          1188.6051705639284,
          1228.4641889496054,
          1236.9889085411598,
          1230.862636538632,
          1218.9190273553168,
          1169.9915856783068,
          1188.9762597447896,
          1180.9171619808462,
          1185.5926485585417,
          1181.5309912358234,
          1229.2231930565806,
          1193.2451025586258,
          1209.964890772341,
          1222.2377035409793,
          1216.2596478457529,
          1185.8274377863236,
          1151.510067213919,
          1122.5712837623703,
          1147.4292504132657,
          1130.1737557794477,
          1151.8658125586849,
          1179.8884609051065,
          1154.7551452329894,
          1153.8257420316634,
          1130.9283363160614,
          1139.425836573705,
          1157.5894844431386,
          1154.2311301009056,
          1149.7306807930815,
          1155.4772545809506,
          1149.2809571792209,
          1167.405476622676,
          1176.506382585138,
          1192.553760640338,
          1202.3203667661264,
          1201.2495783134616,
          1208.2145850767818,
          1178.9973963969362,
          1182.8315252515595,
          1164.4229100095968,
          1161.602205890345,
          1189.4422529616938,
          1190.370459239465,
          1187.5594500392328,
          1197.2344089614385,
          1203.8349485733456,
          1184.5709125297362,
          1194.449953240827,
          1203.1251435078375,
          1205.4311158996593,
          1211.7946950673913,
          1229.2248994293345
         ]
        }
       ],
       "layout": {
        "template": {
         "data": {
          "bar": [
           {
            "error_x": {
             "color": "#2a3f5f"
            },
            "error_y": {
             "color": "#2a3f5f"
            },
            "marker": {
             "line": {
              "color": "#E5ECF6",
              "width": 0.5
             },
             "pattern": {
              "fillmode": "overlay",
              "size": 10,
              "solidity": 0.2
             }
            },
            "type": "bar"
           }
          ],
          "barpolar": [
           {
            "marker": {
             "line": {
              "color": "#E5ECF6",
              "width": 0.5
             },
             "pattern": {
              "fillmode": "overlay",
              "size": 10,
              "solidity": 0.2
             }
            },
            "type": "barpolar"
           }
          ],
          "carpet": [
           {
            "aaxis": {
             "endlinecolor": "#2a3f5f",
             "gridcolor": "white",
             "linecolor": "white",
             "minorgridcolor": "white",
             "startlinecolor": "#2a3f5f"
            },
            "baxis": {
             "endlinecolor": "#2a3f5f",
             "gridcolor": "white",
             "linecolor": "white",
             "minorgridcolor": "white",
             "startlinecolor": "#2a3f5f"
            },
            "type": "carpet"
           }
          ],
          "choropleth": [
           {
            "colorbar": {
             "outlinewidth": 0,
             "ticks": ""
            },
            "type": "choropleth"
           }
          ],
          "contour": [
           {
            "colorbar": {
             "outlinewidth": 0,
             "ticks": ""
            },
            "colorscale": [
             [
              0,
              "#0d0887"
             ],
             [
              0.1111111111111111,
              "#46039f"
             ],
             [
              0.2222222222222222,
              "#7201a8"
             ],
             [
              0.3333333333333333,
              "#9c179e"
             ],
             [
              0.4444444444444444,
              "#bd3786"
             ],
             [
              0.5555555555555556,
              "#d8576b"
             ],
             [
              0.6666666666666666,
              "#ed7953"
             ],
             [
              0.7777777777777778,
              "#fb9f3a"
             ],
             [
              0.8888888888888888,
              "#fdca26"
             ],
             [
              1,
              "#f0f921"
             ]
            ],
            "type": "contour"
           }
          ],
          "contourcarpet": [
           {
            "colorbar": {
             "outlinewidth": 0,
             "ticks": ""
            },
            "type": "contourcarpet"
           }
          ],
          "heatmap": [
           {
            "colorbar": {
             "outlinewidth": 0,
             "ticks": ""
            },
            "colorscale": [
             [
              0,
              "#0d0887"
             ],
             [
              0.1111111111111111,
              "#46039f"
             ],
             [
              0.2222222222222222,
              "#7201a8"
             ],
             [
              0.3333333333333333,
              "#9c179e"
             ],
             [
              0.4444444444444444,
              "#bd3786"
             ],
             [
              0.5555555555555556,
              "#d8576b"
             ],
             [
              0.6666666666666666,
              "#ed7953"
             ],
             [
              0.7777777777777778,
              "#fb9f3a"
             ],
             [
              0.8888888888888888,
              "#fdca26"
             ],
             [
              1,
              "#f0f921"
             ]
            ],
            "type": "heatmap"
           }
          ],
          "heatmapgl": [
           {
            "colorbar": {
             "outlinewidth": 0,
             "ticks": ""
            },
            "colorscale": [
             [
              0,
              "#0d0887"
             ],
             [
              0.1111111111111111,
              "#46039f"
             ],
             [
              0.2222222222222222,
              "#7201a8"
             ],
             [
              0.3333333333333333,
              "#9c179e"
             ],
             [
              0.4444444444444444,
              "#bd3786"
             ],
             [
              0.5555555555555556,
              "#d8576b"
             ],
             [
              0.6666666666666666,
              "#ed7953"
             ],
             [
              0.7777777777777778,
              "#fb9f3a"
             ],
             [
              0.8888888888888888,
              "#fdca26"
             ],
             [
              1,
              "#f0f921"
             ]
            ],
            "type": "heatmapgl"
           }
          ],
          "histogram": [
           {
            "marker": {
             "pattern": {
              "fillmode": "overlay",
              "size": 10,
              "solidity": 0.2
             }
            },
            "type": "histogram"
           }
          ],
          "histogram2d": [
           {
            "colorbar": {
             "outlinewidth": 0,
             "ticks": ""
            },
            "colorscale": [
             [
              0,
              "#0d0887"
             ],
             [
              0.1111111111111111,
              "#46039f"
             ],
             [
              0.2222222222222222,
              "#7201a8"
             ],
             [
              0.3333333333333333,
              "#9c179e"
             ],
             [
              0.4444444444444444,
              "#bd3786"
             ],
             [
              0.5555555555555556,
              "#d8576b"
             ],
             [
              0.6666666666666666,
              "#ed7953"
             ],
             [
              0.7777777777777778,
              "#fb9f3a"
             ],
             [
              0.8888888888888888,
              "#fdca26"
             ],
             [
              1,
              "#f0f921"
             ]
            ],
            "type": "histogram2d"
           }
          ],
          "histogram2dcontour": [
           {
            "colorbar": {
             "outlinewidth": 0,
             "ticks": ""
            },
            "colorscale": [
             [
              0,
              "#0d0887"
             ],
             [
              0.1111111111111111,
              "#46039f"
             ],
             [
              0.2222222222222222,
              "#7201a8"
             ],
             [
              0.3333333333333333,
              "#9c179e"
             ],
             [
              0.4444444444444444,
              "#bd3786"
             ],
             [
              0.5555555555555556,
              "#d8576b"
             ],
             [
              0.6666666666666666,
              "#ed7953"
             ],
             [
              0.7777777777777778,
              "#fb9f3a"
             ],
             [
              0.8888888888888888,
              "#fdca26"
             ],
             [
              1,
              "#f0f921"
             ]
            ],
            "type": "histogram2dcontour"
           }
          ],
          "mesh3d": [
           {
            "colorbar": {
             "outlinewidth": 0,
             "ticks": ""
            },
            "type": "mesh3d"
           }
          ],
          "parcoords": [
           {
            "line": {
             "colorbar": {
              "outlinewidth": 0,
              "ticks": ""
             }
            },
            "type": "parcoords"
           }
          ],
          "pie": [
           {
            "automargin": true,
            "type": "pie"
           }
          ],
          "scatter": [
           {
            "fillpattern": {
             "fillmode": "overlay",
             "size": 10,
             "solidity": 0.2
            },
            "type": "scatter"
           }
          ],
          "scatter3d": [
           {
            "line": {
             "colorbar": {
              "outlinewidth": 0,
              "ticks": ""
             }
            },
            "marker": {
             "colorbar": {
              "outlinewidth": 0,
              "ticks": ""
             }
            },
            "type": "scatter3d"
           }
          ],
          "scattercarpet": [
           {
            "marker": {
             "colorbar": {
              "outlinewidth": 0,
              "ticks": ""
             }
            },
            "type": "scattercarpet"
           }
          ],
          "scattergeo": [
           {
            "marker": {
             "colorbar": {
              "outlinewidth": 0,
              "ticks": ""
             }
            },
            "type": "scattergeo"
           }
          ],
          "scattergl": [
           {
            "marker": {
             "colorbar": {
              "outlinewidth": 0,
              "ticks": ""
             }
            },
            "type": "scattergl"
           }
          ],
          "scattermapbox": [
           {
            "marker": {
             "colorbar": {
              "outlinewidth": 0,
              "ticks": ""
             }
            },
            "type": "scattermapbox"
           }
          ],
          "scatterpolar": [
           {
            "marker": {
             "colorbar": {
              "outlinewidth": 0,
              "ticks": ""
             }
            },
            "type": "scatterpolar"
           }
          ],
          "scatterpolargl": [
           {
            "marker": {
             "colorbar": {
              "outlinewidth": 0,
              "ticks": ""
             }
            },
            "type": "scatterpolargl"
           }
          ],
          "scatterternary": [
           {
            "marker": {
             "colorbar": {
              "outlinewidth": 0,
              "ticks": ""
             }
            },
            "type": "scatterternary"
           }
          ],
          "surface": [
           {
            "colorbar": {
             "outlinewidth": 0,
             "ticks": ""
            },
            "colorscale": [
             [
              0,
              "#0d0887"
             ],
             [
              0.1111111111111111,
              "#46039f"
             ],
             [
              0.2222222222222222,
              "#7201a8"
             ],
             [
              0.3333333333333333,
              "#9c179e"
             ],
             [
              0.4444444444444444,
              "#bd3786"
             ],
             [
              0.5555555555555556,
              "#d8576b"
             ],
             [
              0.6666666666666666,
              "#ed7953"
             ],
             [
              0.7777777777777778,
              "#fb9f3a"
             ],
             [
              0.8888888888888888,
              "#fdca26"
             ],
             [
              1,
              "#f0f921"
             ]
            ],
            "type": "surface"
           }
          ],
          "table": [
           {
            "cells": {
             "fill": {
              "color": "#EBF0F8"
             },
             "line": {
              "color": "white"
             }
            },
            "header": {
             "fill": {
              "color": "#C8D4E3"
             },
             "line": {
              "color": "white"
             }
            },
            "type": "table"
           }
          ]
         },
         "layout": {
          "annotationdefaults": {
           "arrowcolor": "#2a3f5f",
           "arrowhead": 0,
           "arrowwidth": 1
          },
          "autotypenumbers": "strict",
          "coloraxis": {
           "colorbar": {
            "outlinewidth": 0,
            "ticks": ""
           }
          },
          "colorscale": {
           "diverging": [
            [
             0,
             "#8e0152"
            ],
            [
             0.1,
             "#c51b7d"
            ],
            [
             0.2,
             "#de77ae"
            ],
            [
             0.3,
             "#f1b6da"
            ],
            [
             0.4,
             "#fde0ef"
            ],
            [
             0.5,
             "#f7f7f7"
            ],
            [
             0.6,
             "#e6f5d0"
            ],
            [
             0.7,
             "#b8e186"
            ],
            [
             0.8,
             "#7fbc41"
            ],
            [
             0.9,
             "#4d9221"
            ],
            [
             1,
             "#276419"
            ]
           ],
           "sequential": [
            [
             0,
             "#0d0887"
            ],
            [
             0.1111111111111111,
             "#46039f"
            ],
            [
             0.2222222222222222,
             "#7201a8"
            ],
            [
             0.3333333333333333,
             "#9c179e"
            ],
            [
             0.4444444444444444,
             "#bd3786"
            ],
            [
             0.5555555555555556,
             "#d8576b"
            ],
            [
             0.6666666666666666,
             "#ed7953"
            ],
            [
             0.7777777777777778,
             "#fb9f3a"
            ],
            [
             0.8888888888888888,
             "#fdca26"
            ],
            [
             1,
             "#f0f921"
            ]
           ],
           "sequentialminus": [
            [
             0,
             "#0d0887"
            ],
            [
             0.1111111111111111,
             "#46039f"
            ],
            [
             0.2222222222222222,
             "#7201a8"
            ],
            [
             0.3333333333333333,
             "#9c179e"
            ],
            [
             0.4444444444444444,
             "#bd3786"
            ],
            [
             0.5555555555555556,
             "#d8576b"
            ],
            [
             0.6666666666666666,
             "#ed7953"
            ],
            [
             0.7777777777777778,
             "#fb9f3a"
            ],
            [
             0.8888888888888888,
             "#fdca26"
            ],
            [
             1,
             "#f0f921"
            ]
           ]
          },
          "colorway": [
           "#636efa",
           "#EF553B",
           "#00cc96",
           "#ab63fa",
           "#FFA15A",
           "#19d3f3",
           "#FF6692",
           "#B6E880",
           "#FF97FF",
           "#FECB52"
          ],
          "font": {
           "color": "#2a3f5f"
          },
          "geo": {
           "bgcolor": "white",
           "lakecolor": "white",
           "landcolor": "#E5ECF6",
           "showlakes": true,
           "showland": true,
           "subunitcolor": "white"
          },
          "hoverlabel": {
           "align": "left"
          },
          "hovermode": "closest",
          "mapbox": {
           "style": "light"
          },
          "paper_bgcolor": "white",
          "plot_bgcolor": "#E5ECF6",
          "polar": {
           "angularaxis": {
            "gridcolor": "white",
            "linecolor": "white",
            "ticks": ""
           },
           "bgcolor": "#E5ECF6",
           "radialaxis": {
            "gridcolor": "white",
            "linecolor": "white",
            "ticks": ""
           }
          },
          "scene": {
           "xaxis": {
            "backgroundcolor": "#E5ECF6",
            "gridcolor": "white",
            "gridwidth": 2,
            "linecolor": "white",
            "showbackground": true,
            "ticks": "",
            "zerolinecolor": "white"
           },
           "yaxis": {
            "backgroundcolor": "#E5ECF6",
            "gridcolor": "white",
            "gridwidth": 2,
            "linecolor": "white",
            "showbackground": true,
            "ticks": "",
            "zerolinecolor": "white"
           },
           "zaxis": {
            "backgroundcolor": "#E5ECF6",
            "gridcolor": "white",
            "gridwidth": 2,
            "linecolor": "white",
            "showbackground": true,
            "ticks": "",
            "zerolinecolor": "white"
           }
          },
          "shapedefaults": {
           "line": {
            "color": "#2a3f5f"
           }
          },
          "ternary": {
           "aaxis": {
            "gridcolor": "white",
            "linecolor": "white",
            "ticks": ""
           },
           "baxis": {
            "gridcolor": "white",
            "linecolor": "white",
            "ticks": ""
           },
           "bgcolor": "#E5ECF6",
           "caxis": {
            "gridcolor": "white",
            "linecolor": "white",
            "ticks": ""
           }
          },
          "title": {
           "x": 0.05
          },
          "xaxis": {
           "automargin": true,
           "gridcolor": "white",
           "linecolor": "white",
           "ticks": "",
           "title": {
            "standoff": 15
           },
           "zerolinecolor": "white",
           "zerolinewidth": 2
          },
          "yaxis": {
           "automargin": true,
           "gridcolor": "white",
           "linecolor": "white",
           "ticks": "",
           "title": {
            "standoff": 15
           },
           "zerolinecolor": "white",
           "zerolinewidth": 2
          }
         }
        },
        "title": {
         "text": "Évolution de la valeur de ptf"
        },
        "xaxis": {
         "title": {
          "text": "Date"
         }
        },
        "yaxis": {
         "title": {
          "text": "Valeur"
         }
        }
       }
      }
     },
     "metadata": {},
     "output_type": "display_data"
    }
   ],
   "source": [
    "fig = go.Figure()\n",
    "\n",
    "fig.add_trace(go.Scatter(x = portfolio_avg_predictions.Date, \n",
    "                         y = portfolio_avg_predictions['Predicted_Portfolio_Value'],\n",
    "                         mode = 'lines',\n",
    "                         name ='Return_predict', \n",
    "                         fill = \"tozeroy\"))\n",
    "\n",
    "fig.add_trace(go.Scatter(x = portfolio_avg_predictions.Date, \n",
    "                         y = portfolio_avg_predictions[\"Real_Portfolio_Value\"],\n",
    "                         mode = 'lines',\n",
    "                         name ='Return_reel', \n",
    "                         fill = \"tozeroy\"))\n",
    "\n",
    "fig.update_layout(title=\"Évolution de la valeur de ptf\",\n",
    "                  xaxis_title='Date',\n",
    "                  yaxis_title='Valeur')\n",
    "\n",
    "fig.show()"
   ]
  },
  {
   "cell_type": "code",
   "execution_count": null,
   "id": "66b6eab5",
   "metadata": {},
   "outputs": [],
   "source": []
  }
 ],
 "metadata": {
  "kernelspec": {
   "display_name": "Python 3",
   "language": "python",
   "name": "python3"
  },
  "language_info": {
   "codemirror_mode": {
    "name": "ipython",
    "version": 3
   },
   "file_extension": ".py",
   "mimetype": "text/x-python",
   "name": "python",
   "nbconvert_exporter": "python",
   "pygments_lexer": "ipython3",
   "version": "3.10.0"
  }
 },
 "nbformat": 4,
 "nbformat_minor": 5
}
