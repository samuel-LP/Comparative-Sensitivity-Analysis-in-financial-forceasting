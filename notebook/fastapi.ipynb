{
 "cells": [
  {
   "cell_type": "code",
   "execution_count": 1,
   "id": "initial_id",
   "metadata": {
    "ExecuteTime": {
     "end_time": "2024-03-10T14:00:31.227818700Z",
     "start_time": "2024-03-10T14:00:28.503615800Z"
    },
    "collapsed": true
   },
   "outputs": [],
   "source": [
    "import pandas as pd"
   ]
  },
  {
   "cell_type": "code",
   "execution_count": 2,
   "id": "c690c6e2f21db62a",
   "metadata": {
    "ExecuteTime": {
     "end_time": "2024-03-10T14:42:03.854621700Z",
     "start_time": "2024-03-10T14:42:03.820893200Z"
    },
    "collapsed": false
   },
   "outputs": [],
   "source": [
    "def return_text(text):\n",
    "    return text"
   ]
  },
  {
   "cell_type": "code",
   "execution_count": 3,
   "id": "3f4f4a174f62e7dd",
   "metadata": {
    "ExecuteTime": {
     "end_time": "2024-03-10T14:42:09.202680300Z",
     "start_time": "2024-03-10T14:42:09.108340400Z"
    },
    "collapsed": false
   },
   "outputs": [
    {
     "data": {
      "text/plain": [
       "'yo'"
      ]
     },
     "execution_count": 3,
     "metadata": {},
     "output_type": "execute_result"
    }
   ],
   "source": [
    "return_text('yo')"
   ]
  },
  {
   "cell_type": "code",
   "execution_count": 4,
   "id": "38e6a5cbf290e7b6",
   "metadata": {
    "ExecuteTime": {
     "end_time": "2024-03-10T14:42:15.206535800Z",
     "start_time": "2024-03-10T14:42:15.182921800Z"
    },
    "collapsed": false
   },
   "outputs": [],
   "source": [
    "from fastapi import FastAPI\n",
    "from pydantic import BaseModel"
   ]
  },
  {
   "cell_type": "code",
   "execution_count": 5,
   "id": "67a153db6aca5ac6",
   "metadata": {
    "ExecuteTime": {
     "end_time": "2024-03-10T14:47:31.162241700Z",
     "start_time": "2024-03-10T14:47:31.146248800Z"
    },
    "collapsed": false
   },
   "outputs": [],
   "source": [
    "class User_input(BaseModel):\n",
    "    text : str\n",
    "    \n",
    "app = FastAPI()\n",
    "\n",
    "@app.post(\"/calculate\")\n",
    "def operate(input:User_input):\n",
    "    result = return_text(input.text)\n",
    "    return result"
   ]
  },
  {
   "cell_type": "code",
   "execution_count": null,
   "id": "64eeef248aa3f825",
   "metadata": {
    "collapsed": false
   },
   "outputs": [],
   "source": []
  }
 ],
 "metadata": {
  "kernelspec": {
   "display_name": "Python 3",
   "language": "python",
   "name": "python3"
  },
  "language_info": {
   "codemirror_mode": {
    "name": "ipython",
    "version": 3
   },
   "file_extension": ".py",
   "mimetype": "text/x-python",
   "name": "python",
   "nbconvert_exporter": "python",
   "pygments_lexer": "ipython3",
   "version": "3.10.0"
  }
 },
 "nbformat": 4,
 "nbformat_minor": 5
}
