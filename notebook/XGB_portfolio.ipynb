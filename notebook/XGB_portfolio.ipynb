{
 "cells": [
  {
   "cell_type": "code",
   "execution_count": 17,
   "metadata": {},
   "outputs": [],
   "source": [
    "import pandas as pd\n",
    "import matplotlib.pyplot as plt\n",
    "import plotly.graph_objs as go\n",
    "import sys\n",
    "\n",
    "sys.path.append(\"../scripts\")\n",
    "from XGBoost_model import PortfolioPredictionXGBoost_value\n",
    "from XGBoost_utils import compute_errors"
   ]
  },
  {
   "cell_type": "markdown",
   "metadata": {},
   "source": [
    "## Imports des données"
   ]
  },
  {
   "cell_type": "code",
   "execution_count": 18,
   "metadata": {},
   "outputs": [],
   "source": [
    "titres = {\"Amazon\": pd.read_csv(\"../data/AMZN.csv\"),\n",
    "          \"Berkshire\": pd.read_csv(\"../data/BRK-B.csv\"),\n",
    "          \"Google\": pd.read_csv(\"../data/GOOG.csv\"),\n",
    "          \"Microsoft\": pd.read_csv(\"../data/MSFT.csv\"),\n",
    "          \"Exxon\": pd.read_csv(\"../data/XOM.csv\")}"
   ]
  },
  {
   "cell_type": "code",
   "execution_count": 19,
   "metadata": {},
   "outputs": [],
   "source": [
    "XGB = PortfolioPredictionXGBoost_value(titres, window_size=90, step_size=7, prediction_days=7)"
   ]
  },
  {
   "cell_type": "code",
   "execution_count": 22,
   "metadata": {},
   "outputs": [
    {
     "name": "stderr",
     "output_type": "stream",
     "text": [
      "  0%|          | 0/5 [00:00<?, ?it/s]"
     ]
    }
   ],
   "source": [
    "predictions, ptf_avg = XGB.predict_avg_portfolio()"
   ]
  },
  {
   "cell_type": "code",
   "execution_count": null,
   "metadata": {},
   "outputs": [],
   "source": []
  }
 ],
 "metadata": {
  "kernelspec": {
   "display_name": ".FQ_venv",
   "language": "python",
   "name": "python3"
  },
  "language_info": {
   "codemirror_mode": {
    "name": "ipython",
    "version": 3
   },
   "file_extension": ".py",
   "mimetype": "text/x-python",
   "name": "python",
   "nbconvert_exporter": "python",
   "pygments_lexer": "ipython3",
   "version": "3.10.0"
  }
 },
 "nbformat": 4,
 "nbformat_minor": 2
}
