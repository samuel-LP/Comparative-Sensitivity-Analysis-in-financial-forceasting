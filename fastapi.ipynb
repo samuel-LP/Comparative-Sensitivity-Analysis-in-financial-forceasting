{
 "cells": [
  {
   "cell_type": "code",
   "execution_count": 1,
   "id": "initial_id",
   "metadata": {
    "collapsed": true,
    "ExecuteTime": {
     "end_time": "2024-03-10T14:00:31.227818700Z",
     "start_time": "2024-03-10T14:00:28.503615800Z"
    }
   },
   "outputs": [],
   "source": [
    "import pandas as pd"
   ]
  },
  {
   "cell_type": "code",
   "execution_count": 12,
   "outputs": [],
   "source": [
    "def return_text(text):\n",
    "    return text"
   ],
   "metadata": {
    "collapsed": false,
    "ExecuteTime": {
     "end_time": "2024-03-10T14:42:03.854621700Z",
     "start_time": "2024-03-10T14:42:03.820893200Z"
    }
   },
   "id": "c690c6e2f21db62a"
  },
  {
   "cell_type": "code",
   "execution_count": 14,
   "outputs": [
    {
     "data": {
      "text/plain": "'yo'"
     },
     "execution_count": 14,
     "metadata": {},
     "output_type": "execute_result"
    }
   ],
   "source": [
    "return_text('yo')"
   ],
   "metadata": {
    "collapsed": false,
    "ExecuteTime": {
     "end_time": "2024-03-10T14:42:09.202680300Z",
     "start_time": "2024-03-10T14:42:09.108340400Z"
    }
   },
   "id": "3f4f4a174f62e7dd"
  },
  {
   "cell_type": "code",
   "execution_count": 15,
   "outputs": [],
   "source": [
    "from fastapi import FastAPI\n",
    "from pydantic import BaseModel"
   ],
   "metadata": {
    "collapsed": false,
    "ExecuteTime": {
     "end_time": "2024-03-10T14:42:15.206535800Z",
     "start_time": "2024-03-10T14:42:15.182921800Z"
    }
   },
   "id": "38e6a5cbf290e7b6"
  },
  {
   "cell_type": "code",
   "execution_count": 20,
   "outputs": [],
   "source": [
    "class User_input(BaseModel):\n",
    "    text : str\n",
    "    \n",
    "app = FastAPI()\n",
    "\n",
    "@app.post(\"/calculate\")\n",
    "def operate(input:User_input):\n",
    "    result = return_text(input.text)\n",
    "    return result"
   ],
   "metadata": {
    "collapsed": false,
    "ExecuteTime": {
     "end_time": "2024-03-10T14:47:31.162241700Z",
     "start_time": "2024-03-10T14:47:31.146248800Z"
    }
   },
   "id": "67a153db6aca5ac6"
  },
  {
   "cell_type": "code",
   "execution_count": 19,
   "outputs": [
    {
     "ename": "SyntaxError",
     "evalue": "invalid syntax (3258943647.py, line 1)",
     "output_type": "error",
     "traceback": [
      "\u001B[1;36m  Cell \u001B[1;32mIn[19], line 1\u001B[1;36m\u001B[0m\n\u001B[1;33m    uvicorn fast_api:app --reload\u001B[0m\n\u001B[1;37m            ^\u001B[0m\n\u001B[1;31mSyntaxError\u001B[0m\u001B[1;31m:\u001B[0m invalid syntax\n"
     ]
    }
   ],
   "source": [],
   "metadata": {
    "collapsed": false,
    "ExecuteTime": {
     "end_time": "2024-03-10T14:46:25.128452700Z",
     "start_time": "2024-03-10T14:46:25.078425700Z"
    }
   },
   "id": "1d9e3dffc5636066"
  },
  {
   "cell_type": "code",
   "execution_count": null,
   "outputs": [],
   "source": [],
   "metadata": {
    "collapsed": false
   },
   "id": "64eeef248aa3f825"
  }
 ],
 "metadata": {
  "kernelspec": {
   "display_name": "Python 3",
   "language": "python",
   "name": "python3"
  },
  "language_info": {
   "codemirror_mode": {
    "name": "ipython",
    "version": 2
   },
   "file_extension": ".py",
   "mimetype": "text/x-python",
   "name": "python",
   "nbconvert_exporter": "python",
   "pygments_lexer": "ipython2",
   "version": "2.7.6"
  }
 },
 "nbformat": 4,
 "nbformat_minor": 5
}
